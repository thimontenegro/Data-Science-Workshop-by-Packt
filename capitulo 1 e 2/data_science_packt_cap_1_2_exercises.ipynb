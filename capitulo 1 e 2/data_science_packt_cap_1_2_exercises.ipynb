{
  "nbformat": 4,
  "nbformat_minor": 0,
  "metadata": {
    "colab": {
      "name": "data_science_packt_cap_1_2_exercises.ipynb",
      "provenance": [],
      "collapsed_sections": [
        "ex__elBt8g52",
        "mYC69cGw_fzX",
        "96tZZgwaD_dM"
      ],
      "toc_visible": true
    },
    "kernelspec": {
      "name": "python3",
      "display_name": "Python 3"
    }
  },
  "cells": [
    {
      "cell_type": "markdown",
      "metadata": {
        "id": "k1F7jMzqnyYN",
        "colab_type": "text"
      },
      "source": [
        "# Loading Data of Different Formats into a pandas DataFrame\n",
        "In this exercise, we will practice loading different data formats, such as CSV, TSV, and XLSX, into pandas DataFrames. The dataset we will use is the Top 10 Postcodes for the First Home Owner Grants dataset (this is a grant provided by the Australian government to help first-time real estate buyers). It lists the 10 postcodes (also known as zip codes) with the highest number of First Home Owner grants.\n",
        "\n",
        "In this dataset, you will find the number of First Home Owner grant applications for each Australian postcode and the corresponding suburb."
      ]
    },
    {
      "cell_type": "code",
      "metadata": {
        "id": "qnZDYB6hlNfY",
        "colab_type": "code",
        "colab": {
          "base_uri": "https://localhost:8080/",
          "height": 335
        },
        "outputId": "c83553bd-ea7f-4399-d692-34ad933decae"
      },
      "source": [
        "import pandas as pd\n",
        "\n",
        "csv_url = 'https://raw.githubusercontent.com/PacktWorkshops/The-Data-Science-Workshop/master/Chapter01/Dataset/overall_topten_2012-2013.csv'\n",
        "csv_df = pd.read_csv(csv_url, skiprows = 1)\n",
        "csv_df"
      ],
      "execution_count": 5,
      "outputs": [
        {
          "output_type": "execute_result",
          "data": {
            "text/html": [
              "<div>\n",
              "<style scoped>\n",
              "    .dataframe tbody tr th:only-of-type {\n",
              "        vertical-align: middle;\n",
              "    }\n",
              "\n",
              "    .dataframe tbody tr th {\n",
              "        vertical-align: top;\n",
              "    }\n",
              "\n",
              "    .dataframe thead th {\n",
              "        text-align: right;\n",
              "    }\n",
              "</style>\n",
              "<table border=\"1\" class=\"dataframe\">\n",
              "  <thead>\n",
              "    <tr style=\"text-align: right;\">\n",
              "      <th></th>\n",
              "      <th>Number</th>\n",
              "      <th>Postcode</th>\n",
              "      <th>Suburbs</th>\n",
              "      <th>Number of Applications</th>\n",
              "    </tr>\n",
              "  </thead>\n",
              "  <tbody>\n",
              "    <tr>\n",
              "      <th>0</th>\n",
              "      <td>1</td>\n",
              "      <td>3029</td>\n",
              "      <td>Hoppers Crossing, Tarneit</td>\n",
              "      <td>1069</td>\n",
              "    </tr>\n",
              "    <tr>\n",
              "      <th>1</th>\n",
              "      <td>2</td>\n",
              "      <td>3977</td>\n",
              "      <td>Cranbourne, Devon Meadows, Skye</td>\n",
              "      <td>1037</td>\n",
              "    </tr>\n",
              "    <tr>\n",
              "      <th>2</th>\n",
              "      <td>3</td>\n",
              "      <td>3064</td>\n",
              "      <td>Craigieburn, Donnybrook, Roxburgh Park, Mickleham</td>\n",
              "      <td>821</td>\n",
              "    </tr>\n",
              "    <tr>\n",
              "      <th>3</th>\n",
              "      <td>4</td>\n",
              "      <td>3030</td>\n",
              "      <td>Point Cook, Werribee, Derrimut</td>\n",
              "      <td>816</td>\n",
              "    </tr>\n",
              "    <tr>\n",
              "      <th>4</th>\n",
              "      <td>5</td>\n",
              "      <td>3754</td>\n",
              "      <td>Doreen, Mernda</td>\n",
              "      <td>530</td>\n",
              "    </tr>\n",
              "    <tr>\n",
              "      <th>5</th>\n",
              "      <td>6</td>\n",
              "      <td>3810</td>\n",
              "      <td>Pakenham, Rythdale</td>\n",
              "      <td>479</td>\n",
              "    </tr>\n",
              "    <tr>\n",
              "      <th>6</th>\n",
              "      <td>7</td>\n",
              "      <td>3350</td>\n",
              "      <td>Alfredton, Ballarat, Canadian, Invermay Park, ...</td>\n",
              "      <td>383</td>\n",
              "    </tr>\n",
              "    <tr>\n",
              "      <th>7</th>\n",
              "      <td>8</td>\n",
              "      <td>3216</td>\n",
              "      <td>Belmont, Grovedale, Highton, Marshall, Waurn P...</td>\n",
              "      <td>351</td>\n",
              "    </tr>\n",
              "    <tr>\n",
              "      <th>8</th>\n",
              "      <td>9</td>\n",
              "      <td>3136</td>\n",
              "      <td>Croydon, Croydon Hills, Croydon North, Croydon...</td>\n",
              "      <td>344</td>\n",
              "    </tr>\n",
              "    <tr>\n",
              "      <th>9</th>\n",
              "      <td>10</td>\n",
              "      <td>3805</td>\n",
              "      <td>Fountain Gate, Narre Warren, Narre Warren South</td>\n",
              "      <td>335</td>\n",
              "    </tr>\n",
              "  </tbody>\n",
              "</table>\n",
              "</div>"
            ],
            "text/plain": [
              "   Number  ...  Number of Applications\n",
              "0       1  ...                    1069\n",
              "1       2  ...                    1037\n",
              "2       3  ...                     821\n",
              "3       4  ...                     816\n",
              "4       5  ...                     530\n",
              "5       6  ...                     479\n",
              "6       7  ...                     383\n",
              "7       8  ...                     351\n",
              "8       9  ...                     344\n",
              "9      10  ...                     335\n",
              "\n",
              "[10 rows x 4 columns]"
            ]
          },
          "metadata": {
            "tags": []
          },
          "execution_count": 5
        }
      ]
    },
    {
      "cell_type": "code",
      "metadata": {
        "id": "DsmobddhoO5I",
        "colab_type": "code",
        "colab": {
          "base_uri": "https://localhost:8080/",
          "height": 335
        },
        "outputId": "2b68b2ed-9abb-4116-d60b-e40b7da76387"
      },
      "source": [
        "tsv_url = 'https://raw.githubusercontent.com/PacktWorkshops/The-Data-Science-Workshop/master/Chapter01/Dataset/overall_topten_2012-2013.tsv'\n",
        "\n",
        "tsv_df = pd.read_csv(tsv_url, skiprows= 1,sep = '\\t')\n",
        "tsv_df"
      ],
      "execution_count": 6,
      "outputs": [
        {
          "output_type": "execute_result",
          "data": {
            "text/html": [
              "<div>\n",
              "<style scoped>\n",
              "    .dataframe tbody tr th:only-of-type {\n",
              "        vertical-align: middle;\n",
              "    }\n",
              "\n",
              "    .dataframe tbody tr th {\n",
              "        vertical-align: top;\n",
              "    }\n",
              "\n",
              "    .dataframe thead th {\n",
              "        text-align: right;\n",
              "    }\n",
              "</style>\n",
              "<table border=\"1\" class=\"dataframe\">\n",
              "  <thead>\n",
              "    <tr style=\"text-align: right;\">\n",
              "      <th></th>\n",
              "      <th>Number</th>\n",
              "      <th>Postcode</th>\n",
              "      <th>Suburbs</th>\n",
              "      <th>Number of Applications</th>\n",
              "    </tr>\n",
              "  </thead>\n",
              "  <tbody>\n",
              "    <tr>\n",
              "      <th>0</th>\n",
              "      <td>1</td>\n",
              "      <td>3029</td>\n",
              "      <td>Hoppers Crossing, Tarneit</td>\n",
              "      <td>1069</td>\n",
              "    </tr>\n",
              "    <tr>\n",
              "      <th>1</th>\n",
              "      <td>2</td>\n",
              "      <td>3977</td>\n",
              "      <td>Cranbourne, Devon Meadows, Skye</td>\n",
              "      <td>1037</td>\n",
              "    </tr>\n",
              "    <tr>\n",
              "      <th>2</th>\n",
              "      <td>3</td>\n",
              "      <td>3064</td>\n",
              "      <td>Craigieburn, Donnybrook, Roxburgh Park, Mickleham</td>\n",
              "      <td>821</td>\n",
              "    </tr>\n",
              "    <tr>\n",
              "      <th>3</th>\n",
              "      <td>4</td>\n",
              "      <td>3030</td>\n",
              "      <td>Point Cook, Werribee, Derrimut</td>\n",
              "      <td>816</td>\n",
              "    </tr>\n",
              "    <tr>\n",
              "      <th>4</th>\n",
              "      <td>5</td>\n",
              "      <td>3754</td>\n",
              "      <td>Doreen, Mernda</td>\n",
              "      <td>530</td>\n",
              "    </tr>\n",
              "    <tr>\n",
              "      <th>5</th>\n",
              "      <td>6</td>\n",
              "      <td>3810</td>\n",
              "      <td>Pakenham, Rythdale</td>\n",
              "      <td>479</td>\n",
              "    </tr>\n",
              "    <tr>\n",
              "      <th>6</th>\n",
              "      <td>7</td>\n",
              "      <td>3350</td>\n",
              "      <td>Alfredton, Ballarat, Canadian, Invermay Park, ...</td>\n",
              "      <td>383</td>\n",
              "    </tr>\n",
              "    <tr>\n",
              "      <th>7</th>\n",
              "      <td>8</td>\n",
              "      <td>3216</td>\n",
              "      <td>Belmont, Grovedale, Highton, Marshall, Waurn P...</td>\n",
              "      <td>351</td>\n",
              "    </tr>\n",
              "    <tr>\n",
              "      <th>8</th>\n",
              "      <td>9</td>\n",
              "      <td>3136</td>\n",
              "      <td>Croydon, Croydon Hills, Croydon North, Croydon...</td>\n",
              "      <td>344</td>\n",
              "    </tr>\n",
              "    <tr>\n",
              "      <th>9</th>\n",
              "      <td>10</td>\n",
              "      <td>3805</td>\n",
              "      <td>Fountain Gate, Narre Warren, Narre Warren South</td>\n",
              "      <td>335</td>\n",
              "    </tr>\n",
              "  </tbody>\n",
              "</table>\n",
              "</div>"
            ],
            "text/plain": [
              "   Number  ...  Number of Applications\n",
              "0       1  ...                    1069\n",
              "1       2  ...                    1037\n",
              "2       3  ...                     821\n",
              "3       4  ...                     816\n",
              "4       5  ...                     530\n",
              "5       6  ...                     479\n",
              "6       7  ...                     383\n",
              "7       8  ...                     351\n",
              "8       9  ...                     344\n",
              "9      10  ...                     335\n",
              "\n",
              "[10 rows x 4 columns]"
            ]
          },
          "metadata": {
            "tags": []
          },
          "execution_count": 6
        }
      ]
    },
    {
      "cell_type": "code",
      "metadata": {
        "id": "eZPEk0Q5olBb",
        "colab_type": "code",
        "colab": {
          "base_uri": "https://localhost:8080/",
          "height": 47
        },
        "outputId": "e08bd981-bc50-4ff2-cab0-e8f865c593e1"
      },
      "source": [
        "xslx_url = 'https://github.com/PacktWorkshops/The-Data-Science-Workshop/blob/master/Chapter01/Dataset/overall_topten_2012-2013.xlsx?raw=true'\n",
        "xlsx_df = pd.read_excel(xslx_url)\n",
        "xlsx_df"
      ],
      "execution_count": 7,
      "outputs": [
        {
          "output_type": "execute_result",
          "data": {
            "text/html": [
              "<div>\n",
              "<style scoped>\n",
              "    .dataframe tbody tr th:only-of-type {\n",
              "        vertical-align: middle;\n",
              "    }\n",
              "\n",
              "    .dataframe tbody tr th {\n",
              "        vertical-align: top;\n",
              "    }\n",
              "\n",
              "    .dataframe thead th {\n",
              "        text-align: right;\n",
              "    }\n",
              "</style>\n",
              "<table border=\"1\" class=\"dataframe\">\n",
              "  <thead>\n",
              "    <tr style=\"text-align: right;\">\n",
              "      <th></th>\n",
              "      <th>This tab doesn't contain the data we are looking for</th>\n",
              "    </tr>\n",
              "  </thead>\n",
              "  <tbody>\n",
              "  </tbody>\n",
              "</table>\n",
              "</div>"
            ],
            "text/plain": [
              "Empty DataFrame\n",
              "Columns: [This tab doesn't contain the data we are looking for]\n",
              "Index: []"
            ]
          },
          "metadata": {
            "tags": []
          },
          "execution_count": 7
        }
      ]
    },
    {
      "cell_type": "markdown",
      "metadata": {
        "id": "d7eqAEDrtBXV",
        "colab_type": "text"
      },
      "source": [
        "## Exercise 1.03: Predicting Breast Cancer from a Dataset"
      ]
    },
    {
      "cell_type": "code",
      "metadata": {
        "id": "dVCtScKttH8N",
        "colab_type": "code",
        "colab": {}
      },
      "source": [
        "from sklearn.datasets import load_breast_cancer\n"
      ],
      "execution_count": 8,
      "outputs": []
    },
    {
      "cell_type": "code",
      "metadata": {
        "id": "5cUN_T94tMHj",
        "colab_type": "code",
        "colab": {}
      },
      "source": [
        "features, target = load_breast_cancer(return_X_y = True)"
      ],
      "execution_count": 9,
      "outputs": []
    },
    {
      "cell_type": "code",
      "metadata": {
        "id": "kEgZbnLttS73",
        "colab_type": "code",
        "colab": {
          "base_uri": "https://localhost:8080/",
          "height": 131
        },
        "outputId": "fc55bbcd-f6c2-4ef4-9ab2-ce0ab777dbe9"
      },
      "source": [
        "print(features)"
      ],
      "execution_count": 10,
      "outputs": [
        {
          "output_type": "stream",
          "text": [
            "[[1.799e+01 1.038e+01 1.228e+02 ... 2.654e-01 4.601e-01 1.189e-01]\n",
            " [2.057e+01 1.777e+01 1.329e+02 ... 1.860e-01 2.750e-01 8.902e-02]\n",
            " [1.969e+01 2.125e+01 1.300e+02 ... 2.430e-01 3.613e-01 8.758e-02]\n",
            " ...\n",
            " [1.660e+01 2.808e+01 1.083e+02 ... 1.418e-01 2.218e-01 7.820e-02]\n",
            " [2.060e+01 2.933e+01 1.401e+02 ... 2.650e-01 4.087e-01 1.240e-01]\n",
            " [7.760e+00 2.454e+01 4.792e+01 ... 0.000e+00 2.871e-01 7.039e-02]]\n"
          ],
          "name": "stdout"
        }
      ]
    },
    {
      "cell_type": "code",
      "metadata": {
        "id": "C3_78eUrtX6H",
        "colab_type": "code",
        "colab": {
          "base_uri": "https://localhost:8080/",
          "height": 277
        },
        "outputId": "9e41eec2-dbb4-4360-841c-870be6ef6b55"
      },
      "source": [
        "print(target)"
      ],
      "execution_count": 11,
      "outputs": [
        {
          "output_type": "stream",
          "text": [
            "[0 0 0 0 0 0 0 0 0 0 0 0 0 0 0 0 0 0 0 1 1 1 0 0 0 0 0 0 0 0 0 0 0 0 0 0 0\n",
            " 1 0 0 0 0 0 0 0 0 1 0 1 1 1 1 1 0 0 1 0 0 1 1 1 1 0 1 0 0 1 1 1 1 0 1 0 0\n",
            " 1 0 1 0 0 1 1 1 0 0 1 0 0 0 1 1 1 0 1 1 0 0 1 1 1 0 0 1 1 1 1 0 1 1 0 1 1\n",
            " 1 1 1 1 1 1 0 0 0 1 0 0 1 1 1 0 0 1 0 1 0 0 1 0 0 1 1 0 1 1 0 1 1 1 1 0 1\n",
            " 1 1 1 1 1 1 1 1 0 1 1 1 1 0 0 1 0 1 1 0 0 1 1 0 0 1 1 1 1 0 1 1 0 0 0 1 0\n",
            " 1 0 1 1 1 0 1 1 0 0 1 0 0 0 0 1 0 0 0 1 0 1 0 1 1 0 1 0 0 0 0 1 1 0 0 1 1\n",
            " 1 0 1 1 1 1 1 0 0 1 1 0 1 1 0 0 1 0 1 1 1 1 0 1 1 1 1 1 0 1 0 0 0 0 0 0 0\n",
            " 0 0 0 0 0 0 0 1 1 1 1 1 1 0 1 0 1 1 0 1 1 0 1 0 0 1 1 1 1 1 1 1 1 1 1 1 1\n",
            " 1 0 1 1 0 1 0 1 1 1 1 1 1 1 1 1 1 1 1 1 1 0 1 1 1 0 1 0 1 1 1 1 0 0 0 1 1\n",
            " 1 1 0 1 0 1 0 1 1 1 0 1 1 1 1 1 1 1 0 0 0 1 1 1 1 1 1 1 1 1 1 1 0 0 1 0 0\n",
            " 0 1 0 0 1 1 1 1 1 0 1 1 1 1 1 0 1 1 1 0 1 1 0 0 1 1 1 1 1 1 0 1 1 1 1 1 1\n",
            " 1 0 1 1 1 1 1 0 1 1 0 1 1 1 1 1 1 1 1 1 1 1 1 0 1 0 0 1 0 1 1 1 1 1 0 1 1\n",
            " 0 1 0 1 1 0 1 0 1 1 1 1 1 1 1 1 0 0 1 1 1 1 1 1 0 1 1 1 1 1 1 1 1 1 1 0 1\n",
            " 1 1 1 1 1 1 0 1 0 1 1 0 1 1 1 1 1 0 0 1 0 1 0 1 1 1 1 1 0 1 1 0 1 0 1 0 0\n",
            " 1 1 1 0 1 1 1 1 1 1 1 1 1 1 1 0 1 0 0 1 1 1 1 1 1 1 1 1 1 1 1 1 1 1 1 1 1\n",
            " 1 1 1 1 1 1 1 0 0 0 0 0 0 1]\n"
          ],
          "name": "stdout"
        }
      ]
    },
    {
      "cell_type": "code",
      "metadata": {
        "id": "g_s4KvXKtacm",
        "colab_type": "code",
        "colab": {
          "base_uri": "https://localhost:8080/",
          "height": 147
        },
        "outputId": "903406db-ff3b-47d4-e840-d43a7b395f48"
      },
      "source": [
        "from sklearn.ensemble import RandomForestClassifier\n",
        "seed = 888\n",
        "rf_model = RandomForestClassifier(random_state = seed)\n",
        "rf_model.fit(features, target)"
      ],
      "execution_count": 12,
      "outputs": [
        {
          "output_type": "execute_result",
          "data": {
            "text/plain": [
              "RandomForestClassifier(bootstrap=True, ccp_alpha=0.0, class_weight=None,\n",
              "                       criterion='gini', max_depth=None, max_features='auto',\n",
              "                       max_leaf_nodes=None, max_samples=None,\n",
              "                       min_impurity_decrease=0.0, min_impurity_split=None,\n",
              "                       min_samples_leaf=1, min_samples_split=2,\n",
              "                       min_weight_fraction_leaf=0.0, n_estimators=100,\n",
              "                       n_jobs=None, oob_score=False, random_state=888,\n",
              "                       verbose=0, warm_start=False)"
            ]
          },
          "metadata": {
            "tags": []
          },
          "execution_count": 12
        }
      ]
    },
    {
      "cell_type": "code",
      "metadata": {
        "id": "LVGzvxdKtlOa",
        "colab_type": "code",
        "colab": {
          "base_uri": "https://localhost:8080/",
          "height": 277
        },
        "outputId": "24f14107-7f9b-4316-ee99-0fbdc50d4068"
      },
      "source": [
        "preds = rf_model.predict(features)\n",
        "print(preds)"
      ],
      "execution_count": 13,
      "outputs": [
        {
          "output_type": "stream",
          "text": [
            "[0 0 0 0 0 0 0 0 0 0 0 0 0 0 0 0 0 0 0 1 1 1 0 0 0 0 0 0 0 0 0 0 0 0 0 0 0\n",
            " 1 0 0 0 0 0 0 0 0 1 0 1 1 1 1 1 0 0 1 0 0 1 1 1 1 0 1 0 0 1 1 1 1 0 1 0 0\n",
            " 1 0 1 0 0 1 1 1 0 0 1 0 0 0 1 1 1 0 1 1 0 0 1 1 1 0 0 1 1 1 1 0 1 1 0 1 1\n",
            " 1 1 1 1 1 1 0 0 0 1 0 0 1 1 1 0 0 1 0 1 0 0 1 0 0 1 1 0 1 1 0 1 1 1 1 0 1\n",
            " 1 1 1 1 1 1 1 1 0 1 1 1 1 0 0 1 0 1 1 0 0 1 1 0 0 1 1 1 1 0 1 1 0 0 0 1 0\n",
            " 1 0 1 1 1 0 1 1 0 0 1 0 0 0 0 1 0 0 0 1 0 1 0 1 1 0 1 0 0 0 0 1 1 0 0 1 1\n",
            " 1 0 1 1 1 1 1 0 0 1 1 0 1 1 0 0 1 0 1 1 1 1 0 1 1 1 1 1 0 1 0 0 0 0 0 0 0\n",
            " 0 0 0 0 0 0 0 1 1 1 1 1 1 0 1 0 1 1 0 1 1 0 1 0 0 1 1 1 1 1 1 1 1 1 1 1 1\n",
            " 1 0 1 1 0 1 0 1 1 1 1 1 1 1 1 1 1 1 1 1 1 0 1 1 1 0 1 0 1 1 1 1 0 0 0 1 1\n",
            " 1 1 0 1 0 1 0 1 1 1 0 1 1 1 1 1 1 1 0 0 0 1 1 1 1 1 1 1 1 1 1 1 0 0 1 0 0\n",
            " 0 1 0 0 1 1 1 1 1 0 1 1 1 1 1 0 1 1 1 0 1 1 0 0 1 1 1 1 1 1 0 1 1 1 1 1 1\n",
            " 1 0 1 1 1 1 1 0 1 1 0 1 1 1 1 1 1 1 1 1 1 1 1 0 1 0 0 1 0 1 1 1 1 1 0 1 1\n",
            " 0 1 0 1 1 0 1 0 1 1 1 1 1 1 1 1 0 0 1 1 1 1 1 1 0 1 1 1 1 1 1 1 1 1 1 0 1\n",
            " 1 1 1 1 1 1 0 1 0 1 1 0 1 1 1 1 1 0 0 1 0 1 0 1 1 1 1 1 0 1 1 0 1 0 1 0 0\n",
            " 1 1 1 0 1 1 1 1 1 1 1 1 1 1 1 0 1 0 0 1 1 1 1 1 1 1 1 1 1 1 1 1 1 1 1 1 1\n",
            " 1 1 1 1 1 1 1 0 0 0 0 0 0 1]\n"
          ],
          "name": "stdout"
        }
      ]
    },
    {
      "cell_type": "code",
      "metadata": {
        "id": "w-7I8jUztpoM",
        "colab_type": "code",
        "colab": {
          "base_uri": "https://localhost:8080/",
          "height": 33
        },
        "outputId": "68f3fafa-89f1-4318-c0c4-376427967921"
      },
      "source": [
        "from sklearn.metrics import accuracy_score\n",
        "accuracy_score(target, preds)"
      ],
      "execution_count": 14,
      "outputs": [
        {
          "output_type": "execute_result",
          "data": {
            "text/plain": [
              "1.0"
            ]
          },
          "metadata": {
            "tags": []
          },
          "execution_count": 14
        }
      ]
    },
    {
      "cell_type": "markdown",
      "metadata": {
        "id": "FjYBwwYBtwpM",
        "colab_type": "text"
      },
      "source": [
        "## Activity 1.01: Train a Spam Detector Algorithm"
      ]
    },
    {
      "cell_type": "code",
      "metadata": {
        "id": "V2u_NGVluNXr",
        "colab_type": "code",
        "colab": {
          "base_uri": "https://localhost:8080/",
          "height": 411
        },
        "outputId": "233d1474-de18-4eee-f214-b0a2e474e501"
      },
      "source": [
        "spam_url = 'https://raw.githubusercontent.com/PacktWorkshops/The-Data-Science-Workshop/master/Chapter01/Dataset/dataset_44_spambase.csv'\n",
        "df = pd.read_csv(spam_url)\n",
        "df"
      ],
      "execution_count": 15,
      "outputs": [
        {
          "output_type": "execute_result",
          "data": {
            "text/html": [
              "<div>\n",
              "<style scoped>\n",
              "    .dataframe tbody tr th:only-of-type {\n",
              "        vertical-align: middle;\n",
              "    }\n",
              "\n",
              "    .dataframe tbody tr th {\n",
              "        vertical-align: top;\n",
              "    }\n",
              "\n",
              "    .dataframe thead th {\n",
              "        text-align: right;\n",
              "    }\n",
              "</style>\n",
              "<table border=\"1\" class=\"dataframe\">\n",
              "  <thead>\n",
              "    <tr style=\"text-align: right;\">\n",
              "      <th></th>\n",
              "      <th>word_freq_make</th>\n",
              "      <th>word_freq_address</th>\n",
              "      <th>word_freq_all</th>\n",
              "      <th>word_freq_3d</th>\n",
              "      <th>word_freq_our</th>\n",
              "      <th>word_freq_over</th>\n",
              "      <th>word_freq_remove</th>\n",
              "      <th>word_freq_internet</th>\n",
              "      <th>word_freq_order</th>\n",
              "      <th>word_freq_mail</th>\n",
              "      <th>word_freq_receive</th>\n",
              "      <th>word_freq_will</th>\n",
              "      <th>word_freq_people</th>\n",
              "      <th>word_freq_report</th>\n",
              "      <th>word_freq_addresses</th>\n",
              "      <th>word_freq_free</th>\n",
              "      <th>word_freq_business</th>\n",
              "      <th>word_freq_email</th>\n",
              "      <th>word_freq_you</th>\n",
              "      <th>word_freq_credit</th>\n",
              "      <th>word_freq_your</th>\n",
              "      <th>word_freq_font</th>\n",
              "      <th>word_freq_000</th>\n",
              "      <th>word_freq_money</th>\n",
              "      <th>word_freq_hp</th>\n",
              "      <th>word_freq_hpl</th>\n",
              "      <th>word_freq_george</th>\n",
              "      <th>word_freq_650</th>\n",
              "      <th>word_freq_lab</th>\n",
              "      <th>word_freq_labs</th>\n",
              "      <th>word_freq_telnet</th>\n",
              "      <th>word_freq_857</th>\n",
              "      <th>word_freq_data</th>\n",
              "      <th>word_freq_415</th>\n",
              "      <th>word_freq_85</th>\n",
              "      <th>word_freq_technology</th>\n",
              "      <th>word_freq_1999</th>\n",
              "      <th>word_freq_parts</th>\n",
              "      <th>word_freq_pm</th>\n",
              "      <th>word_freq_direct</th>\n",
              "      <th>word_freq_cs</th>\n",
              "      <th>word_freq_meeting</th>\n",
              "      <th>word_freq_original</th>\n",
              "      <th>word_freq_project</th>\n",
              "      <th>word_freq_re</th>\n",
              "      <th>word_freq_edu</th>\n",
              "      <th>word_freq_table</th>\n",
              "      <th>word_freq_conference</th>\n",
              "      <th>char_freq_%3B</th>\n",
              "      <th>char_freq_%28</th>\n",
              "      <th>char_freq_%5B</th>\n",
              "      <th>char_freq_%21</th>\n",
              "      <th>char_freq_%24</th>\n",
              "      <th>char_freq_%23</th>\n",
              "      <th>capital_run_length_average</th>\n",
              "      <th>capital_run_length_longest</th>\n",
              "      <th>capital_run_length_total</th>\n",
              "      <th>class</th>\n",
              "    </tr>\n",
              "  </thead>\n",
              "  <tbody>\n",
              "    <tr>\n",
              "      <th>0</th>\n",
              "      <td>0.00</td>\n",
              "      <td>0.64</td>\n",
              "      <td>0.64</td>\n",
              "      <td>0.0</td>\n",
              "      <td>0.32</td>\n",
              "      <td>0.00</td>\n",
              "      <td>0.00</td>\n",
              "      <td>0.00</td>\n",
              "      <td>0.00</td>\n",
              "      <td>0.00</td>\n",
              "      <td>0.00</td>\n",
              "      <td>0.64</td>\n",
              "      <td>0.00</td>\n",
              "      <td>0.00</td>\n",
              "      <td>0.00</td>\n",
              "      <td>0.32</td>\n",
              "      <td>0.00</td>\n",
              "      <td>1.29</td>\n",
              "      <td>1.93</td>\n",
              "      <td>0.00</td>\n",
              "      <td>0.96</td>\n",
              "      <td>0.0</td>\n",
              "      <td>0.00</td>\n",
              "      <td>0.00</td>\n",
              "      <td>0.0</td>\n",
              "      <td>0.0</td>\n",
              "      <td>0.0</td>\n",
              "      <td>0.0</td>\n",
              "      <td>0.0</td>\n",
              "      <td>0.0</td>\n",
              "      <td>0.0</td>\n",
              "      <td>0.0</td>\n",
              "      <td>0.0</td>\n",
              "      <td>0.0</td>\n",
              "      <td>0.0</td>\n",
              "      <td>0.0</td>\n",
              "      <td>0.00</td>\n",
              "      <td>0.0</td>\n",
              "      <td>0.0</td>\n",
              "      <td>0.00</td>\n",
              "      <td>0.0</td>\n",
              "      <td>0.0</td>\n",
              "      <td>0.00</td>\n",
              "      <td>0.00</td>\n",
              "      <td>0.00</td>\n",
              "      <td>0.00</td>\n",
              "      <td>0.0</td>\n",
              "      <td>0.0</td>\n",
              "      <td>0.000</td>\n",
              "      <td>0.000</td>\n",
              "      <td>0.0</td>\n",
              "      <td>0.778</td>\n",
              "      <td>0.000</td>\n",
              "      <td>0.000</td>\n",
              "      <td>3.756</td>\n",
              "      <td>61</td>\n",
              "      <td>278</td>\n",
              "      <td>1</td>\n",
              "    </tr>\n",
              "    <tr>\n",
              "      <th>1</th>\n",
              "      <td>0.21</td>\n",
              "      <td>0.28</td>\n",
              "      <td>0.50</td>\n",
              "      <td>0.0</td>\n",
              "      <td>0.14</td>\n",
              "      <td>0.28</td>\n",
              "      <td>0.21</td>\n",
              "      <td>0.07</td>\n",
              "      <td>0.00</td>\n",
              "      <td>0.94</td>\n",
              "      <td>0.21</td>\n",
              "      <td>0.79</td>\n",
              "      <td>0.65</td>\n",
              "      <td>0.21</td>\n",
              "      <td>0.14</td>\n",
              "      <td>0.14</td>\n",
              "      <td>0.07</td>\n",
              "      <td>0.28</td>\n",
              "      <td>3.47</td>\n",
              "      <td>0.00</td>\n",
              "      <td>1.59</td>\n",
              "      <td>0.0</td>\n",
              "      <td>0.43</td>\n",
              "      <td>0.43</td>\n",
              "      <td>0.0</td>\n",
              "      <td>0.0</td>\n",
              "      <td>0.0</td>\n",
              "      <td>0.0</td>\n",
              "      <td>0.0</td>\n",
              "      <td>0.0</td>\n",
              "      <td>0.0</td>\n",
              "      <td>0.0</td>\n",
              "      <td>0.0</td>\n",
              "      <td>0.0</td>\n",
              "      <td>0.0</td>\n",
              "      <td>0.0</td>\n",
              "      <td>0.07</td>\n",
              "      <td>0.0</td>\n",
              "      <td>0.0</td>\n",
              "      <td>0.00</td>\n",
              "      <td>0.0</td>\n",
              "      <td>0.0</td>\n",
              "      <td>0.00</td>\n",
              "      <td>0.00</td>\n",
              "      <td>0.00</td>\n",
              "      <td>0.00</td>\n",
              "      <td>0.0</td>\n",
              "      <td>0.0</td>\n",
              "      <td>0.000</td>\n",
              "      <td>0.132</td>\n",
              "      <td>0.0</td>\n",
              "      <td>0.372</td>\n",
              "      <td>0.180</td>\n",
              "      <td>0.048</td>\n",
              "      <td>5.114</td>\n",
              "      <td>101</td>\n",
              "      <td>1028</td>\n",
              "      <td>1</td>\n",
              "    </tr>\n",
              "    <tr>\n",
              "      <th>2</th>\n",
              "      <td>0.06</td>\n",
              "      <td>0.00</td>\n",
              "      <td>0.71</td>\n",
              "      <td>0.0</td>\n",
              "      <td>1.23</td>\n",
              "      <td>0.19</td>\n",
              "      <td>0.19</td>\n",
              "      <td>0.12</td>\n",
              "      <td>0.64</td>\n",
              "      <td>0.25</td>\n",
              "      <td>0.38</td>\n",
              "      <td>0.45</td>\n",
              "      <td>0.12</td>\n",
              "      <td>0.00</td>\n",
              "      <td>1.75</td>\n",
              "      <td>0.06</td>\n",
              "      <td>0.06</td>\n",
              "      <td>1.03</td>\n",
              "      <td>1.36</td>\n",
              "      <td>0.32</td>\n",
              "      <td>0.51</td>\n",
              "      <td>0.0</td>\n",
              "      <td>1.16</td>\n",
              "      <td>0.06</td>\n",
              "      <td>0.0</td>\n",
              "      <td>0.0</td>\n",
              "      <td>0.0</td>\n",
              "      <td>0.0</td>\n",
              "      <td>0.0</td>\n",
              "      <td>0.0</td>\n",
              "      <td>0.0</td>\n",
              "      <td>0.0</td>\n",
              "      <td>0.0</td>\n",
              "      <td>0.0</td>\n",
              "      <td>0.0</td>\n",
              "      <td>0.0</td>\n",
              "      <td>0.00</td>\n",
              "      <td>0.0</td>\n",
              "      <td>0.0</td>\n",
              "      <td>0.06</td>\n",
              "      <td>0.0</td>\n",
              "      <td>0.0</td>\n",
              "      <td>0.12</td>\n",
              "      <td>0.00</td>\n",
              "      <td>0.06</td>\n",
              "      <td>0.06</td>\n",
              "      <td>0.0</td>\n",
              "      <td>0.0</td>\n",
              "      <td>0.010</td>\n",
              "      <td>0.143</td>\n",
              "      <td>0.0</td>\n",
              "      <td>0.276</td>\n",
              "      <td>0.184</td>\n",
              "      <td>0.010</td>\n",
              "      <td>9.821</td>\n",
              "      <td>485</td>\n",
              "      <td>2259</td>\n",
              "      <td>1</td>\n",
              "    </tr>\n",
              "    <tr>\n",
              "      <th>3</th>\n",
              "      <td>0.00</td>\n",
              "      <td>0.00</td>\n",
              "      <td>0.00</td>\n",
              "      <td>0.0</td>\n",
              "      <td>0.63</td>\n",
              "      <td>0.00</td>\n",
              "      <td>0.31</td>\n",
              "      <td>0.63</td>\n",
              "      <td>0.31</td>\n",
              "      <td>0.63</td>\n",
              "      <td>0.31</td>\n",
              "      <td>0.31</td>\n",
              "      <td>0.31</td>\n",
              "      <td>0.00</td>\n",
              "      <td>0.00</td>\n",
              "      <td>0.31</td>\n",
              "      <td>0.00</td>\n",
              "      <td>0.00</td>\n",
              "      <td>3.18</td>\n",
              "      <td>0.00</td>\n",
              "      <td>0.31</td>\n",
              "      <td>0.0</td>\n",
              "      <td>0.00</td>\n",
              "      <td>0.00</td>\n",
              "      <td>0.0</td>\n",
              "      <td>0.0</td>\n",
              "      <td>0.0</td>\n",
              "      <td>0.0</td>\n",
              "      <td>0.0</td>\n",
              "      <td>0.0</td>\n",
              "      <td>0.0</td>\n",
              "      <td>0.0</td>\n",
              "      <td>0.0</td>\n",
              "      <td>0.0</td>\n",
              "      <td>0.0</td>\n",
              "      <td>0.0</td>\n",
              "      <td>0.00</td>\n",
              "      <td>0.0</td>\n",
              "      <td>0.0</td>\n",
              "      <td>0.00</td>\n",
              "      <td>0.0</td>\n",
              "      <td>0.0</td>\n",
              "      <td>0.00</td>\n",
              "      <td>0.00</td>\n",
              "      <td>0.00</td>\n",
              "      <td>0.00</td>\n",
              "      <td>0.0</td>\n",
              "      <td>0.0</td>\n",
              "      <td>0.000</td>\n",
              "      <td>0.137</td>\n",
              "      <td>0.0</td>\n",
              "      <td>0.137</td>\n",
              "      <td>0.000</td>\n",
              "      <td>0.000</td>\n",
              "      <td>3.537</td>\n",
              "      <td>40</td>\n",
              "      <td>191</td>\n",
              "      <td>1</td>\n",
              "    </tr>\n",
              "    <tr>\n",
              "      <th>4</th>\n",
              "      <td>0.00</td>\n",
              "      <td>0.00</td>\n",
              "      <td>0.00</td>\n",
              "      <td>0.0</td>\n",
              "      <td>0.63</td>\n",
              "      <td>0.00</td>\n",
              "      <td>0.31</td>\n",
              "      <td>0.63</td>\n",
              "      <td>0.31</td>\n",
              "      <td>0.63</td>\n",
              "      <td>0.31</td>\n",
              "      <td>0.31</td>\n",
              "      <td>0.31</td>\n",
              "      <td>0.00</td>\n",
              "      <td>0.00</td>\n",
              "      <td>0.31</td>\n",
              "      <td>0.00</td>\n",
              "      <td>0.00</td>\n",
              "      <td>3.18</td>\n",
              "      <td>0.00</td>\n",
              "      <td>0.31</td>\n",
              "      <td>0.0</td>\n",
              "      <td>0.00</td>\n",
              "      <td>0.00</td>\n",
              "      <td>0.0</td>\n",
              "      <td>0.0</td>\n",
              "      <td>0.0</td>\n",
              "      <td>0.0</td>\n",
              "      <td>0.0</td>\n",
              "      <td>0.0</td>\n",
              "      <td>0.0</td>\n",
              "      <td>0.0</td>\n",
              "      <td>0.0</td>\n",
              "      <td>0.0</td>\n",
              "      <td>0.0</td>\n",
              "      <td>0.0</td>\n",
              "      <td>0.00</td>\n",
              "      <td>0.0</td>\n",
              "      <td>0.0</td>\n",
              "      <td>0.00</td>\n",
              "      <td>0.0</td>\n",
              "      <td>0.0</td>\n",
              "      <td>0.00</td>\n",
              "      <td>0.00</td>\n",
              "      <td>0.00</td>\n",
              "      <td>0.00</td>\n",
              "      <td>0.0</td>\n",
              "      <td>0.0</td>\n",
              "      <td>0.000</td>\n",
              "      <td>0.135</td>\n",
              "      <td>0.0</td>\n",
              "      <td>0.135</td>\n",
              "      <td>0.000</td>\n",
              "      <td>0.000</td>\n",
              "      <td>3.537</td>\n",
              "      <td>40</td>\n",
              "      <td>191</td>\n",
              "      <td>1</td>\n",
              "    </tr>\n",
              "    <tr>\n",
              "      <th>...</th>\n",
              "      <td>...</td>\n",
              "      <td>...</td>\n",
              "      <td>...</td>\n",
              "      <td>...</td>\n",
              "      <td>...</td>\n",
              "      <td>...</td>\n",
              "      <td>...</td>\n",
              "      <td>...</td>\n",
              "      <td>...</td>\n",
              "      <td>...</td>\n",
              "      <td>...</td>\n",
              "      <td>...</td>\n",
              "      <td>...</td>\n",
              "      <td>...</td>\n",
              "      <td>...</td>\n",
              "      <td>...</td>\n",
              "      <td>...</td>\n",
              "      <td>...</td>\n",
              "      <td>...</td>\n",
              "      <td>...</td>\n",
              "      <td>...</td>\n",
              "      <td>...</td>\n",
              "      <td>...</td>\n",
              "      <td>...</td>\n",
              "      <td>...</td>\n",
              "      <td>...</td>\n",
              "      <td>...</td>\n",
              "      <td>...</td>\n",
              "      <td>...</td>\n",
              "      <td>...</td>\n",
              "      <td>...</td>\n",
              "      <td>...</td>\n",
              "      <td>...</td>\n",
              "      <td>...</td>\n",
              "      <td>...</td>\n",
              "      <td>...</td>\n",
              "      <td>...</td>\n",
              "      <td>...</td>\n",
              "      <td>...</td>\n",
              "      <td>...</td>\n",
              "      <td>...</td>\n",
              "      <td>...</td>\n",
              "      <td>...</td>\n",
              "      <td>...</td>\n",
              "      <td>...</td>\n",
              "      <td>...</td>\n",
              "      <td>...</td>\n",
              "      <td>...</td>\n",
              "      <td>...</td>\n",
              "      <td>...</td>\n",
              "      <td>...</td>\n",
              "      <td>...</td>\n",
              "      <td>...</td>\n",
              "      <td>...</td>\n",
              "      <td>...</td>\n",
              "      <td>...</td>\n",
              "      <td>...</td>\n",
              "      <td>...</td>\n",
              "    </tr>\n",
              "    <tr>\n",
              "      <th>4596</th>\n",
              "      <td>0.31</td>\n",
              "      <td>0.00</td>\n",
              "      <td>0.62</td>\n",
              "      <td>0.0</td>\n",
              "      <td>0.00</td>\n",
              "      <td>0.31</td>\n",
              "      <td>0.00</td>\n",
              "      <td>0.00</td>\n",
              "      <td>0.00</td>\n",
              "      <td>0.00</td>\n",
              "      <td>0.00</td>\n",
              "      <td>1.88</td>\n",
              "      <td>0.00</td>\n",
              "      <td>0.00</td>\n",
              "      <td>0.00</td>\n",
              "      <td>0.00</td>\n",
              "      <td>0.00</td>\n",
              "      <td>0.00</td>\n",
              "      <td>0.62</td>\n",
              "      <td>0.00</td>\n",
              "      <td>0.00</td>\n",
              "      <td>0.0</td>\n",
              "      <td>0.00</td>\n",
              "      <td>0.00</td>\n",
              "      <td>0.0</td>\n",
              "      <td>0.0</td>\n",
              "      <td>0.0</td>\n",
              "      <td>0.0</td>\n",
              "      <td>0.0</td>\n",
              "      <td>0.0</td>\n",
              "      <td>0.0</td>\n",
              "      <td>0.0</td>\n",
              "      <td>0.0</td>\n",
              "      <td>0.0</td>\n",
              "      <td>0.0</td>\n",
              "      <td>0.0</td>\n",
              "      <td>0.00</td>\n",
              "      <td>0.0</td>\n",
              "      <td>0.0</td>\n",
              "      <td>0.00</td>\n",
              "      <td>0.0</td>\n",
              "      <td>0.0</td>\n",
              "      <td>0.00</td>\n",
              "      <td>0.31</td>\n",
              "      <td>0.31</td>\n",
              "      <td>0.31</td>\n",
              "      <td>0.0</td>\n",
              "      <td>0.0</td>\n",
              "      <td>0.000</td>\n",
              "      <td>0.232</td>\n",
              "      <td>0.0</td>\n",
              "      <td>0.000</td>\n",
              "      <td>0.000</td>\n",
              "      <td>0.000</td>\n",
              "      <td>1.142</td>\n",
              "      <td>3</td>\n",
              "      <td>88</td>\n",
              "      <td>0</td>\n",
              "    </tr>\n",
              "    <tr>\n",
              "      <th>4597</th>\n",
              "      <td>0.00</td>\n",
              "      <td>0.00</td>\n",
              "      <td>0.00</td>\n",
              "      <td>0.0</td>\n",
              "      <td>0.00</td>\n",
              "      <td>0.00</td>\n",
              "      <td>0.00</td>\n",
              "      <td>0.00</td>\n",
              "      <td>0.00</td>\n",
              "      <td>0.00</td>\n",
              "      <td>0.00</td>\n",
              "      <td>0.00</td>\n",
              "      <td>0.00</td>\n",
              "      <td>0.00</td>\n",
              "      <td>0.00</td>\n",
              "      <td>0.00</td>\n",
              "      <td>0.00</td>\n",
              "      <td>0.00</td>\n",
              "      <td>6.00</td>\n",
              "      <td>0.00</td>\n",
              "      <td>2.00</td>\n",
              "      <td>0.0</td>\n",
              "      <td>0.00</td>\n",
              "      <td>0.00</td>\n",
              "      <td>0.0</td>\n",
              "      <td>0.0</td>\n",
              "      <td>0.0</td>\n",
              "      <td>0.0</td>\n",
              "      <td>0.0</td>\n",
              "      <td>0.0</td>\n",
              "      <td>0.0</td>\n",
              "      <td>0.0</td>\n",
              "      <td>0.0</td>\n",
              "      <td>0.0</td>\n",
              "      <td>0.0</td>\n",
              "      <td>0.0</td>\n",
              "      <td>0.00</td>\n",
              "      <td>0.0</td>\n",
              "      <td>0.0</td>\n",
              "      <td>0.00</td>\n",
              "      <td>0.0</td>\n",
              "      <td>0.0</td>\n",
              "      <td>0.00</td>\n",
              "      <td>0.00</td>\n",
              "      <td>0.00</td>\n",
              "      <td>2.00</td>\n",
              "      <td>0.0</td>\n",
              "      <td>0.0</td>\n",
              "      <td>0.000</td>\n",
              "      <td>0.000</td>\n",
              "      <td>0.0</td>\n",
              "      <td>0.353</td>\n",
              "      <td>0.000</td>\n",
              "      <td>0.000</td>\n",
              "      <td>1.555</td>\n",
              "      <td>4</td>\n",
              "      <td>14</td>\n",
              "      <td>0</td>\n",
              "    </tr>\n",
              "    <tr>\n",
              "      <th>4598</th>\n",
              "      <td>0.30</td>\n",
              "      <td>0.00</td>\n",
              "      <td>0.30</td>\n",
              "      <td>0.0</td>\n",
              "      <td>0.00</td>\n",
              "      <td>0.00</td>\n",
              "      <td>0.00</td>\n",
              "      <td>0.00</td>\n",
              "      <td>0.00</td>\n",
              "      <td>0.00</td>\n",
              "      <td>0.00</td>\n",
              "      <td>1.80</td>\n",
              "      <td>0.30</td>\n",
              "      <td>0.00</td>\n",
              "      <td>0.00</td>\n",
              "      <td>0.00</td>\n",
              "      <td>0.00</td>\n",
              "      <td>0.90</td>\n",
              "      <td>1.50</td>\n",
              "      <td>0.00</td>\n",
              "      <td>0.30</td>\n",
              "      <td>0.0</td>\n",
              "      <td>0.00</td>\n",
              "      <td>0.00</td>\n",
              "      <td>0.0</td>\n",
              "      <td>0.0</td>\n",
              "      <td>0.0</td>\n",
              "      <td>0.0</td>\n",
              "      <td>0.0</td>\n",
              "      <td>0.0</td>\n",
              "      <td>0.0</td>\n",
              "      <td>0.0</td>\n",
              "      <td>0.0</td>\n",
              "      <td>0.0</td>\n",
              "      <td>0.0</td>\n",
              "      <td>0.0</td>\n",
              "      <td>0.00</td>\n",
              "      <td>0.0</td>\n",
              "      <td>0.0</td>\n",
              "      <td>0.00</td>\n",
              "      <td>0.0</td>\n",
              "      <td>0.0</td>\n",
              "      <td>0.00</td>\n",
              "      <td>0.00</td>\n",
              "      <td>0.00</td>\n",
              "      <td>1.20</td>\n",
              "      <td>0.0</td>\n",
              "      <td>0.0</td>\n",
              "      <td>0.102</td>\n",
              "      <td>0.718</td>\n",
              "      <td>0.0</td>\n",
              "      <td>0.000</td>\n",
              "      <td>0.000</td>\n",
              "      <td>0.000</td>\n",
              "      <td>1.404</td>\n",
              "      <td>6</td>\n",
              "      <td>118</td>\n",
              "      <td>0</td>\n",
              "    </tr>\n",
              "    <tr>\n",
              "      <th>4599</th>\n",
              "      <td>0.96</td>\n",
              "      <td>0.00</td>\n",
              "      <td>0.00</td>\n",
              "      <td>0.0</td>\n",
              "      <td>0.32</td>\n",
              "      <td>0.00</td>\n",
              "      <td>0.00</td>\n",
              "      <td>0.00</td>\n",
              "      <td>0.00</td>\n",
              "      <td>0.00</td>\n",
              "      <td>0.00</td>\n",
              "      <td>0.32</td>\n",
              "      <td>0.00</td>\n",
              "      <td>0.00</td>\n",
              "      <td>0.00</td>\n",
              "      <td>0.00</td>\n",
              "      <td>0.00</td>\n",
              "      <td>0.00</td>\n",
              "      <td>1.93</td>\n",
              "      <td>0.00</td>\n",
              "      <td>0.32</td>\n",
              "      <td>0.0</td>\n",
              "      <td>0.00</td>\n",
              "      <td>0.00</td>\n",
              "      <td>0.0</td>\n",
              "      <td>0.0</td>\n",
              "      <td>0.0</td>\n",
              "      <td>0.0</td>\n",
              "      <td>0.0</td>\n",
              "      <td>0.0</td>\n",
              "      <td>0.0</td>\n",
              "      <td>0.0</td>\n",
              "      <td>0.0</td>\n",
              "      <td>0.0</td>\n",
              "      <td>0.0</td>\n",
              "      <td>0.0</td>\n",
              "      <td>0.00</td>\n",
              "      <td>0.0</td>\n",
              "      <td>0.0</td>\n",
              "      <td>0.00</td>\n",
              "      <td>0.0</td>\n",
              "      <td>0.0</td>\n",
              "      <td>0.00</td>\n",
              "      <td>0.32</td>\n",
              "      <td>0.00</td>\n",
              "      <td>0.32</td>\n",
              "      <td>0.0</td>\n",
              "      <td>0.0</td>\n",
              "      <td>0.000</td>\n",
              "      <td>0.057</td>\n",
              "      <td>0.0</td>\n",
              "      <td>0.000</td>\n",
              "      <td>0.000</td>\n",
              "      <td>0.000</td>\n",
              "      <td>1.147</td>\n",
              "      <td>5</td>\n",
              "      <td>78</td>\n",
              "      <td>0</td>\n",
              "    </tr>\n",
              "    <tr>\n",
              "      <th>4600</th>\n",
              "      <td>0.00</td>\n",
              "      <td>0.00</td>\n",
              "      <td>0.65</td>\n",
              "      <td>0.0</td>\n",
              "      <td>0.00</td>\n",
              "      <td>0.00</td>\n",
              "      <td>0.00</td>\n",
              "      <td>0.00</td>\n",
              "      <td>0.00</td>\n",
              "      <td>0.00</td>\n",
              "      <td>0.00</td>\n",
              "      <td>0.00</td>\n",
              "      <td>0.65</td>\n",
              "      <td>0.00</td>\n",
              "      <td>0.00</td>\n",
              "      <td>0.00</td>\n",
              "      <td>0.00</td>\n",
              "      <td>0.00</td>\n",
              "      <td>4.60</td>\n",
              "      <td>0.00</td>\n",
              "      <td>0.65</td>\n",
              "      <td>0.0</td>\n",
              "      <td>0.00</td>\n",
              "      <td>0.00</td>\n",
              "      <td>0.0</td>\n",
              "      <td>0.0</td>\n",
              "      <td>0.0</td>\n",
              "      <td>0.0</td>\n",
              "      <td>0.0</td>\n",
              "      <td>0.0</td>\n",
              "      <td>0.0</td>\n",
              "      <td>0.0</td>\n",
              "      <td>0.0</td>\n",
              "      <td>0.0</td>\n",
              "      <td>0.0</td>\n",
              "      <td>0.0</td>\n",
              "      <td>0.00</td>\n",
              "      <td>0.0</td>\n",
              "      <td>0.0</td>\n",
              "      <td>0.00</td>\n",
              "      <td>0.0</td>\n",
              "      <td>0.0</td>\n",
              "      <td>0.00</td>\n",
              "      <td>0.00</td>\n",
              "      <td>1.97</td>\n",
              "      <td>0.65</td>\n",
              "      <td>0.0</td>\n",
              "      <td>0.0</td>\n",
              "      <td>0.000</td>\n",
              "      <td>0.000</td>\n",
              "      <td>0.0</td>\n",
              "      <td>0.125</td>\n",
              "      <td>0.000</td>\n",
              "      <td>0.000</td>\n",
              "      <td>1.250</td>\n",
              "      <td>5</td>\n",
              "      <td>40</td>\n",
              "      <td>0</td>\n",
              "    </tr>\n",
              "  </tbody>\n",
              "</table>\n",
              "<p>4601 rows × 58 columns</p>\n",
              "</div>"
            ],
            "text/plain": [
              "      word_freq_make  word_freq_address  ...  capital_run_length_total  class\n",
              "0               0.00               0.64  ...                       278      1\n",
              "1               0.21               0.28  ...                      1028      1\n",
              "2               0.06               0.00  ...                      2259      1\n",
              "3               0.00               0.00  ...                       191      1\n",
              "4               0.00               0.00  ...                       191      1\n",
              "...              ...                ...  ...                       ...    ...\n",
              "4596            0.31               0.00  ...                        88      0\n",
              "4597            0.00               0.00  ...                        14      0\n",
              "4598            0.30               0.00  ...                       118      0\n",
              "4599            0.96               0.00  ...                        78      0\n",
              "4600            0.00               0.00  ...                        40      0\n",
              "\n",
              "[4601 rows x 58 columns]"
            ]
          },
          "metadata": {
            "tags": []
          },
          "execution_count": 15
        }
      ]
    },
    {
      "cell_type": "code",
      "metadata": {
        "id": "QBQGLOS_uexl",
        "colab_type": "code",
        "colab": {}
      },
      "source": [
        "features = df.drop('class', axis = 1)\n",
        "target = df['class']"
      ],
      "execution_count": 16,
      "outputs": []
    },
    {
      "cell_type": "code",
      "metadata": {
        "id": "hRUh9hRpukK2",
        "colab_type": "code",
        "colab": {
          "base_uri": "https://localhost:8080/",
          "height": 33
        },
        "outputId": "27e1ea87-d25d-4e71-e787-1b5850f78699"
      },
      "source": [
        "## Instantiate RandomForestClassifier\n",
        "from sklearn.ensemble import RandomForestClassifier\n",
        "\n",
        "rf_model = RandomForestClassifier()\n",
        "\n",
        "rf_model.fit(features, target)\n",
        "\n",
        "preds = rf_model.predict(features)\n",
        "\n",
        "accuracy_score(target, preds)"
      ],
      "execution_count": 17,
      "outputs": [
        {
          "output_type": "execute_result",
          "data": {
            "text/plain": [
              "0.9993479678330798"
            ]
          },
          "metadata": {
            "tags": []
          },
          "execution_count": 17
        }
      ]
    },
    {
      "cell_type": "markdown",
      "metadata": {
        "id": "w5zbyLizw3iR",
        "colab_type": "text"
      },
      "source": [
        "## Cap 2 - Regression\n",
        "\n",
        "\n",
        "\n"
      ]
    },
    {
      "cell_type": "markdown",
      "metadata": {
        "id": "5V3HpUcV5bHu",
        "colab_type": "text"
      },
      "source": [
        "Regression analysis is about finding a function, under a given set of assumptions, that best describes the relationship between the dependent variable (Y in this case) and the independent variable (X in this case).\n",
        "\n"
      ]
    },
    {
      "cell_type": "markdown",
      "metadata": {
        "id": "JdvynpJT5gny",
        "colab_type": "text"
      },
      "source": [
        "### The Method of Least Squares\n",
        "B0 and B1 are unknown constants, representing the intercept and the slope of the regression line.\n",
        "\n",
        "The intercept is the value of the dependent variable (y) when the independent variable (x) has value of zero (0). The slope is a measure of the rate at which the dependent variable (y) changes when the independent variable (x) changes by one (1). The unknown constants are callaed the **model coefficients** or **parameters**. \n",
        "\n",
        "![texto alternativo](https://s3.amazonaws.com/thinkific/file_uploads/59347/images/a62/ef9/9c1/B15019_02_04.png)\n"
      ]
    },
    {
      "cell_type": "markdown",
      "metadata": {
        "id": "inPKGnPg688F",
        "colab_type": "text"
      },
      "source": [
        "Calculating the difference between the actual dependent variable and the predicted dependent variable gives an error that is commoly termed as residual (E1).\n",
        "\n",
        "Repeting this calculation for every data poin in the sample, the residual (E1) for every data point can be squared, to eliminate algebraic sings, and added together to obtain the error sum of squares (ESS)\n",
        "\n",
        "The Least squares method seeks to minimize the ESS."
      ]
    },
    {
      "cell_type": "markdown",
      "metadata": {
        "id": "b0PoGrRe7cv3",
        "colab_type": "text"
      },
      "source": [
        "### Multiple Linear Regression\n",
        "\n",
        "If we include multiple independent variables in our analysis, we get a multiple regression model.\n",
        "Multiple Regression is represented in a way that's similar to simple linear regression.\n",
        "\n",
        "Lets consider a case where we want to fit a linear regression model that has three independent variables, X1, X2 and X3. The formula for the multiple linear regression equation looks:\n",
        "![texto alternativo](https://s3.amazonaws.com/thinkific/file_uploads/59347/images/483/f47/75e/B15019_02_05.png)\n",
        "\n",
        "Each independent variable will have it's own coefficient or parameter (that is B1, B2 ou B3). The Bn confiencients tell us how a change in their respective indepedent variable influences the dependent variable if all other independent variables are unchanged."
      ]
    },
    {
      "cell_type": "markdown",
      "metadata": {
        "id": "E08cnMuF9T-l",
        "colab_type": "text"
      },
      "source": [
        "### Estimating the Regression Coefficients (B0, B1, B2 and B3)\n",
        "\n",
        "The regression coefficients in Equation 2.2 are estimated using the same least squares approach. To satisfy the least squares method, the chosen coefficients must minimize the sum of squared residuals."
      ]
    },
    {
      "cell_type": "markdown",
      "metadata": {
        "id": "yT-YDy_D9q-0",
        "colab_type": "text"
      },
      "source": [
        "### Correlation Matrices\n",
        "Another way of visualizing the linear relationship between variables is with a correlation matrix. A correlation matrix is kind of cross-table of numbers showing the correlation between pairs of variables, that is, how strongly the two variables are connected, this is can be though how one variable can change other variable. It is not easy analyzing raw figures in a table. A correlation matrix can, therefore, be converted to a form of 'heatmap' so that the correlation between variables can easily be observed using different colors."
      ]
    },
    {
      "cell_type": "markdown",
      "metadata": {
        "id": "Sdcsg5RW_qaU",
        "colab_type": "text"
      },
      "source": [
        "### Loading and Preparing the Data for Analysis"
      ]
    },
    {
      "cell_type": "code",
      "metadata": {
        "id": "wSkEx8b7AHGJ",
        "colab_type": "code",
        "colab": {
          "base_uri": "https://localhost:8080/",
          "height": 147
        },
        "outputId": "b06c5e28-662c-468b-c9c4-820dade6db08"
      },
      "source": [
        "pip install statsmodels"
      ],
      "execution_count": 18,
      "outputs": [
        {
          "output_type": "stream",
          "text": [
            "Requirement already satisfied: statsmodels in /usr/local/lib/python3.6/dist-packages (0.10.2)\n",
            "Requirement already satisfied: pandas>=0.19 in /usr/local/lib/python3.6/dist-packages (from statsmodels) (1.0.5)\n",
            "Requirement already satisfied: numpy>=1.11 in /usr/local/lib/python3.6/dist-packages (from statsmodels) (1.18.5)\n",
            "Requirement already satisfied: scipy>=0.18 in /usr/local/lib/python3.6/dist-packages (from statsmodels) (1.4.1)\n",
            "Requirement already satisfied: patsy>=0.4.0 in /usr/local/lib/python3.6/dist-packages (from statsmodels) (0.5.1)\n",
            "Requirement already satisfied: pytz>=2017.2 in /usr/local/lib/python3.6/dist-packages (from pandas>=0.19->statsmodels) (2018.9)\n",
            "Requirement already satisfied: python-dateutil>=2.6.1 in /usr/local/lib/python3.6/dist-packages (from pandas>=0.19->statsmodels) (2.8.1)\n",
            "Requirement already satisfied: six in /usr/local/lib/python3.6/dist-packages (from patsy>=0.4.0->statsmodels) (1.12.0)\n"
          ],
          "name": "stdout"
        }
      ]
    },
    {
      "cell_type": "code",
      "metadata": {
        "id": "bYO2_gDN_14_",
        "colab_type": "code",
        "colab": {
          "base_uri": "https://localhost:8080/",
          "height": 70
        },
        "outputId": "091872f6-f10b-42bd-aad8-041d3384a122"
      },
      "source": [
        "import seaborn as sns \n",
        "import matplotlib.pyplot as plt \n",
        "import statsmodels.formula.api as smf \n",
        "import statsmodels.graphics.api as smg \n",
        "import pandas as pd \n",
        "import numpy as np \n",
        "import patsy \n",
        "from statsmodels.graphics.correlation import plot_corr \n",
        "from sklearn.model_selection import train_test_split \n",
        "plt.style.use('seaborn') "
      ],
      "execution_count": 19,
      "outputs": [
        {
          "output_type": "stream",
          "text": [
            "/usr/local/lib/python3.6/dist-packages/statsmodels/tools/_testing.py:19: FutureWarning: pandas.util.testing is deprecated. Use the functions in the public API at pandas.testing instead.\n",
            "  import pandas.util.testing as tm\n"
          ],
          "name": "stderr"
        }
      ]
    },
    {
      "cell_type": "code",
      "metadata": {
        "id": "w8CNO1Tsw9_v",
        "colab_type": "code",
        "colab": {}
      },
      "source": [
        "url_data = 'https://raw.githubusercontent.com/PacktWorkshops/The-Data-Science-Workshop/master/Chapter02/Dataset/Boston.csv'\n",
        "df = pd.read_csv(url_data)"
      ],
      "execution_count": 20,
      "outputs": []
    },
    {
      "cell_type": "code",
      "metadata": {
        "id": "SVdjQ1sIxWT6",
        "colab_type": "code",
        "colab": {
          "base_uri": "https://localhost:8080/",
          "height": 191
        },
        "outputId": "4d47cd0c-2bc0-431f-b0ec-414c448a7807"
      },
      "source": [
        "df.head()"
      ],
      "execution_count": 21,
      "outputs": [
        {
          "output_type": "execute_result",
          "data": {
            "text/html": [
              "<div>\n",
              "<style scoped>\n",
              "    .dataframe tbody tr th:only-of-type {\n",
              "        vertical-align: middle;\n",
              "    }\n",
              "\n",
              "    .dataframe tbody tr th {\n",
              "        vertical-align: top;\n",
              "    }\n",
              "\n",
              "    .dataframe thead th {\n",
              "        text-align: right;\n",
              "    }\n",
              "</style>\n",
              "<table border=\"1\" class=\"dataframe\">\n",
              "  <thead>\n",
              "    <tr style=\"text-align: right;\">\n",
              "      <th></th>\n",
              "      <th>CRIM</th>\n",
              "      <th>ZN</th>\n",
              "      <th>INDUS</th>\n",
              "      <th>CHAS</th>\n",
              "      <th>NOX</th>\n",
              "      <th>RM</th>\n",
              "      <th>AGE</th>\n",
              "      <th>DIS</th>\n",
              "      <th>RAD</th>\n",
              "      <th>TAX</th>\n",
              "      <th>PTRATIO</th>\n",
              "      <th>LSTAT</th>\n",
              "      <th>MEDV</th>\n",
              "    </tr>\n",
              "  </thead>\n",
              "  <tbody>\n",
              "    <tr>\n",
              "      <th>0</th>\n",
              "      <td>0.00632</td>\n",
              "      <td>18.0</td>\n",
              "      <td>2.31</td>\n",
              "      <td>0</td>\n",
              "      <td>0.538</td>\n",
              "      <td>6.575</td>\n",
              "      <td>65.2</td>\n",
              "      <td>4.0900</td>\n",
              "      <td>1</td>\n",
              "      <td>296</td>\n",
              "      <td>15.3</td>\n",
              "      <td>4.98</td>\n",
              "      <td>24.0</td>\n",
              "    </tr>\n",
              "    <tr>\n",
              "      <th>1</th>\n",
              "      <td>0.02731</td>\n",
              "      <td>0.0</td>\n",
              "      <td>7.07</td>\n",
              "      <td>0</td>\n",
              "      <td>0.469</td>\n",
              "      <td>6.421</td>\n",
              "      <td>78.9</td>\n",
              "      <td>4.9671</td>\n",
              "      <td>2</td>\n",
              "      <td>242</td>\n",
              "      <td>17.8</td>\n",
              "      <td>9.14</td>\n",
              "      <td>21.6</td>\n",
              "    </tr>\n",
              "    <tr>\n",
              "      <th>2</th>\n",
              "      <td>0.02729</td>\n",
              "      <td>0.0</td>\n",
              "      <td>7.07</td>\n",
              "      <td>0</td>\n",
              "      <td>0.469</td>\n",
              "      <td>7.185</td>\n",
              "      <td>61.1</td>\n",
              "      <td>4.9671</td>\n",
              "      <td>2</td>\n",
              "      <td>242</td>\n",
              "      <td>17.8</td>\n",
              "      <td>4.03</td>\n",
              "      <td>34.7</td>\n",
              "    </tr>\n",
              "    <tr>\n",
              "      <th>3</th>\n",
              "      <td>0.03237</td>\n",
              "      <td>0.0</td>\n",
              "      <td>2.18</td>\n",
              "      <td>0</td>\n",
              "      <td>0.458</td>\n",
              "      <td>6.998</td>\n",
              "      <td>45.8</td>\n",
              "      <td>6.0622</td>\n",
              "      <td>3</td>\n",
              "      <td>222</td>\n",
              "      <td>18.7</td>\n",
              "      <td>2.94</td>\n",
              "      <td>33.4</td>\n",
              "    </tr>\n",
              "    <tr>\n",
              "      <th>4</th>\n",
              "      <td>0.06905</td>\n",
              "      <td>0.0</td>\n",
              "      <td>2.18</td>\n",
              "      <td>0</td>\n",
              "      <td>0.458</td>\n",
              "      <td>7.147</td>\n",
              "      <td>54.2</td>\n",
              "      <td>6.0622</td>\n",
              "      <td>3</td>\n",
              "      <td>222</td>\n",
              "      <td>18.7</td>\n",
              "      <td>5.33</td>\n",
              "      <td>36.2</td>\n",
              "    </tr>\n",
              "  </tbody>\n",
              "</table>\n",
              "</div>"
            ],
            "text/plain": [
              "      CRIM   ZN   INDUS   CHAS    NOX  ...  RAD  TAX  PTRATIO  LSTAT  MEDV\n",
              "0  0.00632  18.0    2.31     0  0.538  ...    1  296     15.3   4.98  24.0\n",
              "1  0.02731   0.0    7.07     0  0.469  ...    2  242     17.8   9.14  21.6\n",
              "2  0.02729   0.0    7.07     0  0.469  ...    2  242     17.8   4.03  34.7\n",
              "3  0.03237   0.0    2.18     0  0.458  ...    3  222     18.7   2.94  33.4\n",
              "4  0.06905   0.0    2.18     0  0.458  ...    3  222     18.7   5.33  36.2\n",
              "\n",
              "[5 rows x 13 columns]"
            ]
          },
          "metadata": {
            "tags": []
          },
          "execution_count": 21
        }
      ]
    },
    {
      "cell_type": "code",
      "metadata": {
        "id": "2NE9A-TXxZAf",
        "colab_type": "code",
        "colab": {
          "base_uri": "https://localhost:8080/",
          "height": 245
        },
        "outputId": "b0a7c647-600c-4417-e0bf-cea9ccfeee5b"
      },
      "source": [
        "df.isnull().sum()"
      ],
      "execution_count": 22,
      "outputs": [
        {
          "output_type": "execute_result",
          "data": {
            "text/plain": [
              "CRIM       0\n",
              " ZN        0\n",
              "INDUS      0\n",
              "CHAS       0\n",
              "NOX        0\n",
              "RM         0\n",
              "AGE        0\n",
              "DIS        0\n",
              "RAD        0\n",
              "TAX        0\n",
              "PTRATIO    0\n",
              "LSTAT      0\n",
              "MEDV       0\n",
              "dtype: int64"
            ]
          },
          "metadata": {
            "tags": []
          },
          "execution_count": 22
        }
      ]
    },
    {
      "cell_type": "code",
      "metadata": {
        "id": "Y1QT-UurxY6P",
        "colab_type": "code",
        "colab": {
          "base_uri": "https://localhost:8080/",
          "height": 33
        },
        "outputId": "e11a23df-f6ef-4589-b3d6-92d97f150e4e"
      },
      "source": [
        "df.duplicated().sum() #Dados duplicados"
      ],
      "execution_count": 23,
      "outputs": [
        {
          "output_type": "execute_result",
          "data": {
            "text/plain": [
              "0"
            ]
          },
          "metadata": {
            "tags": []
          },
          "execution_count": 23
        }
      ]
    },
    {
      "cell_type": "code",
      "metadata": {
        "id": "bBfFIkzHxi4b",
        "colab_type": "code",
        "colab": {
          "base_uri": "https://localhost:8080/",
          "height": 228
        },
        "outputId": "0caa72de-3e4e-4c0b-d66a-853611360a16"
      },
      "source": [
        "list(df.columns)"
      ],
      "execution_count": 24,
      "outputs": [
        {
          "output_type": "execute_result",
          "data": {
            "text/plain": [
              "['CRIM',\n",
              " ' ZN ',\n",
              " 'INDUS ',\n",
              " 'CHAS',\n",
              " 'NOX',\n",
              " 'RM',\n",
              " 'AGE',\n",
              " 'DIS',\n",
              " 'RAD',\n",
              " 'TAX',\n",
              " 'PTRATIO',\n",
              " 'LSTAT',\n",
              " 'MEDV']"
            ]
          },
          "metadata": {
            "tags": []
          },
          "execution_count": 24
        }
      ]
    },
    {
      "cell_type": "code",
      "metadata": {
        "id": "6uneyX0PyjqX",
        "colab_type": "code",
        "colab": {
          "base_uri": "https://localhost:8080/",
          "height": 227
        },
        "outputId": "5ec04ba6-4bca-4799-9ba5-69fc9d03c2b5"
      },
      "source": [
        "df = df.rename(columns = {'CRIM':'crimeRatePerCapita', \n",
        " ' ZN ':'landOver25K_sqft', \n",
        " 'INDUS ':'non-retailLandProptn', \n",
        " 'CHAS':'riverDummy', \n",
        " 'NOX':'nitrixOxide_pp10m', \n",
        " 'RM':'AvgNo.RoomsPerDwelling', \n",
        " 'AGE':'ProptnOwnerOccupied', \n",
        " 'DIS':'weightedDist', \n",
        " 'RAD':'radialHighwaysAccess', \n",
        " 'TAX':'propTaxRate_per10K', \n",
        " 'PTRATIO':'pupilTeacherRatio', \n",
        " 'LSTAT':'pctLowerStatus', \n",
        " 'MEDV':'medianValue_Ks'}) \n",
        "df.head() "
      ],
      "execution_count": 25,
      "outputs": [
        {
          "output_type": "execute_result",
          "data": {
            "text/html": [
              "<div>\n",
              "<style scoped>\n",
              "    .dataframe tbody tr th:only-of-type {\n",
              "        vertical-align: middle;\n",
              "    }\n",
              "\n",
              "    .dataframe tbody tr th {\n",
              "        vertical-align: top;\n",
              "    }\n",
              "\n",
              "    .dataframe thead th {\n",
              "        text-align: right;\n",
              "    }\n",
              "</style>\n",
              "<table border=\"1\" class=\"dataframe\">\n",
              "  <thead>\n",
              "    <tr style=\"text-align: right;\">\n",
              "      <th></th>\n",
              "      <th>crimeRatePerCapita</th>\n",
              "      <th>landOver25K_sqft</th>\n",
              "      <th>non-retailLandProptn</th>\n",
              "      <th>riverDummy</th>\n",
              "      <th>nitrixOxide_pp10m</th>\n",
              "      <th>AvgNo.RoomsPerDwelling</th>\n",
              "      <th>ProptnOwnerOccupied</th>\n",
              "      <th>weightedDist</th>\n",
              "      <th>radialHighwaysAccess</th>\n",
              "      <th>propTaxRate_per10K</th>\n",
              "      <th>pupilTeacherRatio</th>\n",
              "      <th>pctLowerStatus</th>\n",
              "      <th>medianValue_Ks</th>\n",
              "    </tr>\n",
              "  </thead>\n",
              "  <tbody>\n",
              "    <tr>\n",
              "      <th>0</th>\n",
              "      <td>0.00632</td>\n",
              "      <td>18.0</td>\n",
              "      <td>2.31</td>\n",
              "      <td>0</td>\n",
              "      <td>0.538</td>\n",
              "      <td>6.575</td>\n",
              "      <td>65.2</td>\n",
              "      <td>4.0900</td>\n",
              "      <td>1</td>\n",
              "      <td>296</td>\n",
              "      <td>15.3</td>\n",
              "      <td>4.98</td>\n",
              "      <td>24.0</td>\n",
              "    </tr>\n",
              "    <tr>\n",
              "      <th>1</th>\n",
              "      <td>0.02731</td>\n",
              "      <td>0.0</td>\n",
              "      <td>7.07</td>\n",
              "      <td>0</td>\n",
              "      <td>0.469</td>\n",
              "      <td>6.421</td>\n",
              "      <td>78.9</td>\n",
              "      <td>4.9671</td>\n",
              "      <td>2</td>\n",
              "      <td>242</td>\n",
              "      <td>17.8</td>\n",
              "      <td>9.14</td>\n",
              "      <td>21.6</td>\n",
              "    </tr>\n",
              "    <tr>\n",
              "      <th>2</th>\n",
              "      <td>0.02729</td>\n",
              "      <td>0.0</td>\n",
              "      <td>7.07</td>\n",
              "      <td>0</td>\n",
              "      <td>0.469</td>\n",
              "      <td>7.185</td>\n",
              "      <td>61.1</td>\n",
              "      <td>4.9671</td>\n",
              "      <td>2</td>\n",
              "      <td>242</td>\n",
              "      <td>17.8</td>\n",
              "      <td>4.03</td>\n",
              "      <td>34.7</td>\n",
              "    </tr>\n",
              "    <tr>\n",
              "      <th>3</th>\n",
              "      <td>0.03237</td>\n",
              "      <td>0.0</td>\n",
              "      <td>2.18</td>\n",
              "      <td>0</td>\n",
              "      <td>0.458</td>\n",
              "      <td>6.998</td>\n",
              "      <td>45.8</td>\n",
              "      <td>6.0622</td>\n",
              "      <td>3</td>\n",
              "      <td>222</td>\n",
              "      <td>18.7</td>\n",
              "      <td>2.94</td>\n",
              "      <td>33.4</td>\n",
              "    </tr>\n",
              "    <tr>\n",
              "      <th>4</th>\n",
              "      <td>0.06905</td>\n",
              "      <td>0.0</td>\n",
              "      <td>2.18</td>\n",
              "      <td>0</td>\n",
              "      <td>0.458</td>\n",
              "      <td>7.147</td>\n",
              "      <td>54.2</td>\n",
              "      <td>6.0622</td>\n",
              "      <td>3</td>\n",
              "      <td>222</td>\n",
              "      <td>18.7</td>\n",
              "      <td>5.33</td>\n",
              "      <td>36.2</td>\n",
              "    </tr>\n",
              "  </tbody>\n",
              "</table>\n",
              "</div>"
            ],
            "text/plain": [
              "   crimeRatePerCapita  landOver25K_sqft  ...  pctLowerStatus  medianValue_Ks\n",
              "0             0.00632              18.0  ...            4.98            24.0\n",
              "1             0.02731               0.0  ...            9.14            21.6\n",
              "2             0.02729               0.0  ...            4.03            34.7\n",
              "3             0.03237               0.0  ...            2.94            33.4\n",
              "4             0.06905               0.0  ...            5.33            36.2\n",
              "\n",
              "[5 rows x 13 columns]"
            ]
          },
          "metadata": {
            "tags": []
          },
          "execution_count": 25
        }
      ]
    },
    {
      "cell_type": "code",
      "metadata": {
        "id": "WEkSVrkuy_hb",
        "colab_type": "code",
        "colab": {
          "base_uri": "https://localhost:8080/",
          "height": 342
        },
        "outputId": "659ab7b3-1458-4f09-8c90-5bb7f1659be3"
      },
      "source": [
        "df.info()"
      ],
      "execution_count": 26,
      "outputs": [
        {
          "output_type": "stream",
          "text": [
            "<class 'pandas.core.frame.DataFrame'>\n",
            "RangeIndex: 506 entries, 0 to 505\n",
            "Data columns (total 13 columns):\n",
            " #   Column                  Non-Null Count  Dtype  \n",
            "---  ------                  --------------  -----  \n",
            " 0   crimeRatePerCapita      506 non-null    float64\n",
            " 1   landOver25K_sqft        506 non-null    float64\n",
            " 2   non-retailLandProptn    506 non-null    float64\n",
            " 3   riverDummy              506 non-null    int64  \n",
            " 4   nitrixOxide_pp10m       506 non-null    float64\n",
            " 5   AvgNo.RoomsPerDwelling  506 non-null    float64\n",
            " 6   ProptnOwnerOccupied     506 non-null    float64\n",
            " 7   weightedDist            506 non-null    float64\n",
            " 8   radialHighwaysAccess    506 non-null    int64  \n",
            " 9   propTaxRate_per10K      506 non-null    int64  \n",
            " 10  pupilTeacherRatio       506 non-null    float64\n",
            " 11  pctLowerStatus          506 non-null    float64\n",
            " 12  medianValue_Ks          506 non-null    float64\n",
            "dtypes: float64(10), int64(3)\n",
            "memory usage: 51.5 KB\n"
          ],
          "name": "stdout"
        }
      ]
    },
    {
      "cell_type": "code",
      "metadata": {
        "id": "p_NX_39UzDS9",
        "colab_type": "code",
        "colab": {
          "base_uri": "https://localhost:8080/",
          "height": 421
        },
        "outputId": "c61955cf-ff0d-4b40-f0ed-cf1a18dfb338"
      },
      "source": [
        "df.describe().T"
      ],
      "execution_count": 27,
      "outputs": [
        {
          "output_type": "execute_result",
          "data": {
            "text/html": [
              "<div>\n",
              "<style scoped>\n",
              "    .dataframe tbody tr th:only-of-type {\n",
              "        vertical-align: middle;\n",
              "    }\n",
              "\n",
              "    .dataframe tbody tr th {\n",
              "        vertical-align: top;\n",
              "    }\n",
              "\n",
              "    .dataframe thead th {\n",
              "        text-align: right;\n",
              "    }\n",
              "</style>\n",
              "<table border=\"1\" class=\"dataframe\">\n",
              "  <thead>\n",
              "    <tr style=\"text-align: right;\">\n",
              "      <th></th>\n",
              "      <th>count</th>\n",
              "      <th>mean</th>\n",
              "      <th>std</th>\n",
              "      <th>min</th>\n",
              "      <th>25%</th>\n",
              "      <th>50%</th>\n",
              "      <th>75%</th>\n",
              "      <th>max</th>\n",
              "    </tr>\n",
              "  </thead>\n",
              "  <tbody>\n",
              "    <tr>\n",
              "      <th>crimeRatePerCapita</th>\n",
              "      <td>506.0</td>\n",
              "      <td>3.613524</td>\n",
              "      <td>8.601545</td>\n",
              "      <td>0.00632</td>\n",
              "      <td>0.082045</td>\n",
              "      <td>0.25651</td>\n",
              "      <td>3.677082</td>\n",
              "      <td>88.9762</td>\n",
              "    </tr>\n",
              "    <tr>\n",
              "      <th>landOver25K_sqft</th>\n",
              "      <td>506.0</td>\n",
              "      <td>11.363636</td>\n",
              "      <td>23.322453</td>\n",
              "      <td>0.00000</td>\n",
              "      <td>0.000000</td>\n",
              "      <td>0.00000</td>\n",
              "      <td>12.500000</td>\n",
              "      <td>100.0000</td>\n",
              "    </tr>\n",
              "    <tr>\n",
              "      <th>non-retailLandProptn</th>\n",
              "      <td>506.0</td>\n",
              "      <td>11.136779</td>\n",
              "      <td>6.860353</td>\n",
              "      <td>0.46000</td>\n",
              "      <td>5.190000</td>\n",
              "      <td>9.69000</td>\n",
              "      <td>18.100000</td>\n",
              "      <td>27.7400</td>\n",
              "    </tr>\n",
              "    <tr>\n",
              "      <th>riverDummy</th>\n",
              "      <td>506.0</td>\n",
              "      <td>0.069170</td>\n",
              "      <td>0.253994</td>\n",
              "      <td>0.00000</td>\n",
              "      <td>0.000000</td>\n",
              "      <td>0.00000</td>\n",
              "      <td>0.000000</td>\n",
              "      <td>1.0000</td>\n",
              "    </tr>\n",
              "    <tr>\n",
              "      <th>nitrixOxide_pp10m</th>\n",
              "      <td>506.0</td>\n",
              "      <td>0.554695</td>\n",
              "      <td>0.115878</td>\n",
              "      <td>0.38500</td>\n",
              "      <td>0.449000</td>\n",
              "      <td>0.53800</td>\n",
              "      <td>0.624000</td>\n",
              "      <td>0.8710</td>\n",
              "    </tr>\n",
              "    <tr>\n",
              "      <th>AvgNo.RoomsPerDwelling</th>\n",
              "      <td>506.0</td>\n",
              "      <td>6.284634</td>\n",
              "      <td>0.702617</td>\n",
              "      <td>3.56100</td>\n",
              "      <td>5.885500</td>\n",
              "      <td>6.20850</td>\n",
              "      <td>6.623500</td>\n",
              "      <td>8.7800</td>\n",
              "    </tr>\n",
              "    <tr>\n",
              "      <th>ProptnOwnerOccupied</th>\n",
              "      <td>506.0</td>\n",
              "      <td>68.574901</td>\n",
              "      <td>28.148861</td>\n",
              "      <td>2.90000</td>\n",
              "      <td>45.025000</td>\n",
              "      <td>77.50000</td>\n",
              "      <td>94.075000</td>\n",
              "      <td>100.0000</td>\n",
              "    </tr>\n",
              "    <tr>\n",
              "      <th>weightedDist</th>\n",
              "      <td>506.0</td>\n",
              "      <td>3.795043</td>\n",
              "      <td>2.105710</td>\n",
              "      <td>1.12960</td>\n",
              "      <td>2.100175</td>\n",
              "      <td>3.20745</td>\n",
              "      <td>5.188425</td>\n",
              "      <td>12.1265</td>\n",
              "    </tr>\n",
              "    <tr>\n",
              "      <th>radialHighwaysAccess</th>\n",
              "      <td>506.0</td>\n",
              "      <td>9.549407</td>\n",
              "      <td>8.707259</td>\n",
              "      <td>1.00000</td>\n",
              "      <td>4.000000</td>\n",
              "      <td>5.00000</td>\n",
              "      <td>24.000000</td>\n",
              "      <td>24.0000</td>\n",
              "    </tr>\n",
              "    <tr>\n",
              "      <th>propTaxRate_per10K</th>\n",
              "      <td>506.0</td>\n",
              "      <td>408.237154</td>\n",
              "      <td>168.537116</td>\n",
              "      <td>187.00000</td>\n",
              "      <td>279.000000</td>\n",
              "      <td>330.00000</td>\n",
              "      <td>666.000000</td>\n",
              "      <td>711.0000</td>\n",
              "    </tr>\n",
              "    <tr>\n",
              "      <th>pupilTeacherRatio</th>\n",
              "      <td>506.0</td>\n",
              "      <td>18.455534</td>\n",
              "      <td>2.164946</td>\n",
              "      <td>12.60000</td>\n",
              "      <td>17.400000</td>\n",
              "      <td>19.05000</td>\n",
              "      <td>20.200000</td>\n",
              "      <td>22.0000</td>\n",
              "    </tr>\n",
              "    <tr>\n",
              "      <th>pctLowerStatus</th>\n",
              "      <td>506.0</td>\n",
              "      <td>12.653063</td>\n",
              "      <td>7.141062</td>\n",
              "      <td>1.73000</td>\n",
              "      <td>6.950000</td>\n",
              "      <td>11.36000</td>\n",
              "      <td>16.955000</td>\n",
              "      <td>37.9700</td>\n",
              "    </tr>\n",
              "    <tr>\n",
              "      <th>medianValue_Ks</th>\n",
              "      <td>506.0</td>\n",
              "      <td>22.532806</td>\n",
              "      <td>9.197104</td>\n",
              "      <td>5.00000</td>\n",
              "      <td>17.025000</td>\n",
              "      <td>21.20000</td>\n",
              "      <td>25.000000</td>\n",
              "      <td>50.0000</td>\n",
              "    </tr>\n",
              "  </tbody>\n",
              "</table>\n",
              "</div>"
            ],
            "text/plain": [
              "                        count        mean  ...         75%       max\n",
              "crimeRatePerCapita      506.0    3.613524  ...    3.677082   88.9762\n",
              "landOver25K_sqft        506.0   11.363636  ...   12.500000  100.0000\n",
              "non-retailLandProptn    506.0   11.136779  ...   18.100000   27.7400\n",
              "riverDummy              506.0    0.069170  ...    0.000000    1.0000\n",
              "nitrixOxide_pp10m       506.0    0.554695  ...    0.624000    0.8710\n",
              "AvgNo.RoomsPerDwelling  506.0    6.284634  ...    6.623500    8.7800\n",
              "ProptnOwnerOccupied     506.0   68.574901  ...   94.075000  100.0000\n",
              "weightedDist            506.0    3.795043  ...    5.188425   12.1265\n",
              "radialHighwaysAccess    506.0    9.549407  ...   24.000000   24.0000\n",
              "propTaxRate_per10K      506.0  408.237154  ...  666.000000  711.0000\n",
              "pupilTeacherRatio       506.0   18.455534  ...   20.200000   22.0000\n",
              "pctLowerStatus          506.0   12.653063  ...   16.955000   37.9700\n",
              "medianValue_Ks          506.0   22.532806  ...   25.000000   50.0000\n",
              "\n",
              "[13 rows x 8 columns]"
            ]
          },
          "metadata": {
            "tags": []
          },
          "execution_count": 27
        }
      ]
    },
    {
      "cell_type": "code",
      "metadata": {
        "id": "bYcsgjnPzMwh",
        "colab_type": "code",
        "colab": {}
      },
      "source": [
        "X = df.drop('crimeRatePerCapita', axis = 1)\n",
        "y = df['crimeRatePerCapita']\n",
        "seed = 10\n",
        "size = 0.3\n",
        "\n",
        "X_train, X_test, y_train, y_test = train_test_split(X, y, test_size = size, random_state = seed)\n",
        "train_data = pd.concat([X_train, y_train], axis = 1)\n",
        "test_data = pd.concat([X_test, y_test], axis = 1)"
      ],
      "execution_count": 28,
      "outputs": []
    },
    {
      "cell_type": "code",
      "metadata": {
        "id": "3-znS1dMz_YR",
        "colab_type": "code",
        "colab": {
          "base_uri": "https://localhost:8080/",
          "height": 808
        },
        "outputId": "e70a78d8-a655-4c53-8252-1c8455a233c0"
      },
      "source": [
        "corrMatrix = train_data.corr(method = 'pearson')\n",
        "xnames = list(train_data.columns)\n",
        "ynames = list(train_data.columns)\n",
        "plt.figure(figsize = (12,8))\n",
        "plot_corr(corrMatrix, xnames = xnames, ynames = ynames, title = None,\n",
        "     normcolor =False, cmap = 'coolwarm')\n"
      ],
      "execution_count": 29,
      "outputs": [
        {
          "output_type": "execute_result",
          "data": {
            "image/png": "[encoded data removed]",
            "text/plain": [
              "<Figure size 576x396 with 2 Axes>"
            ]
          },
          "metadata": {
            "tags": []
          },
          "execution_count": 29
        },
        {
          "output_type": "display_data",
          "data": {
            "text/plain": [
              "<Figure size 864x576 with 0 Axes>"
            ]
          },
          "metadata": {
            "tags": []
          }
        },
        {
          "output_type": "display_data",
          "data": {
            "image/png": "[encoded data removed]",
            "text/plain": [
              "<Figure size 576x396 with 2 Axes>"
            ]
          },
          "metadata": {
            "tags": []
          }
        }
      ]
    },
    {
      "cell_type": "code",
      "metadata": {
        "id": "aIPjLMwp21ry",
        "colab_type": "code",
        "colab": {
          "base_uri": "https://localhost:8080/",
          "height": 457
        },
        "outputId": "8fa723b1-ca02-4864-f313-cdb146361cf9"
      },
      "source": [
        "fig, ax = plt.subplots(figsize = (10,6))\n",
        "sns.regplot(x = 'medianValue_Ks', y = 'crimeRatePerCapita', ci = None, data = train_data, ax= ax,\n",
        "           color = 'k', scatter_kws = {\"s\": 20, \"color\": \"royalblue\", \"alpha\": 1} )\n",
        "ax.set_ylabel('Crime rate per Capita', fontsize=15, fontname='DejaVu Sans')\n",
        "ax.set_xlabel(\"Median value of owner-occupied homes in $1000's\", fontsize=15, fontname='DejaVu Sans')\n",
        "ax.set_xlim(left=None, right=None)\n",
        "ax.set_ylim(bottom=None, top=30)\n",
        "ax.tick_params(axis='both', which='major', labelsize=12)\n",
        "fig.tight_layout()\n",
        "plt.plot()"
      ],
      "execution_count": 30,
      "outputs": [
        {
          "output_type": "execute_result",
          "data": {
            "text/plain": [
              "[]"
            ]
          },
          "metadata": {
            "tags": []
          },
          "execution_count": 30
        },
        {
          "output_type": "display_data",
          "data": {
            "image/png": "[encoded data removed]",
            "text/plain": [
              "<Figure size 720x432 with 1 Axes>"
            ]
          },
          "metadata": {
            "tags": []
          }
        }
      ]
    },
    {
      "cell_type": "markdown",
      "metadata": {
        "id": "jZQ4-Y5y6GrO",
        "colab_type": "text"
      },
      "source": [
        "### Examining a possible log-linear relationship using Python\n",
        "In this exercise, we will use the logarithm function to transform variables and investigate whether this helps provide a better fit of the regression line to the data. We will also look at how to use confidence intervals by including a 95% confidence interval of the regression coefficients on the plot."
      ]
    },
    {
      "cell_type": "code",
      "metadata": {
        "id": "-5EtVwc-6v-H",
        "colab_type": "code",
        "colab": {
          "base_uri": "https://localhost:8080/",
          "height": 441
        },
        "outputId": "4479ce55-791c-4f7c-db0e-ded7183c6b28"
      },
      "source": [
        "fig, ax = plt.subplots(figsize = (10,6))\n",
        "y = np.log(train_data['crimeRatePerCapita'])\n",
        "sns.regplot(x = 'medianValue_Ks', y= y, ci = 95, data = train_data, ax = ax, color = 'k',\n",
        "            scatter_kws = {\"s\": 20, \"color\": \"royalblue\", \"alpha\":1})\n",
        "ax.set_ylabel('log of Crime rate per Capita', fontsize = 15,\n",
        "              fontname = 'DejaVu Sans')\n",
        "ax.set_xlabel(\"Median value of owner-occupied homes in $1000's\", fontsize = 15,\n",
        "              fontname = 'DejaVu Sans')\n",
        "ax.set_xlim(left = None, right = None)\n",
        "ax.set_ylim(bottom = None, top = None)\n",
        "ax.tick_params(axis = 'both', which = 'major', labelsize = 12)\n",
        "fig.tight_layout()"
      ],
      "execution_count": 31,
      "outputs": [
        {
          "output_type": "display_data",
          "data": {
            "image/png": "[encoded data removed]",
            "text/plain": [
              "<Figure size 720x432 with 1 Axes>"
            ]
          },
          "metadata": {
            "tags": []
          }
        }
      ]
    },
    {
      "cell_type": "markdown",
      "metadata": {
        "id": "sqElSAkW8JsU",
        "colab_type": "text"
      },
      "source": [
        "By completing this exercise, we have successfully improved our scatter plot. The regression line created in this activity fits the data better than what was created in Exercise 2.02. You can see by comparing the two graphs, the regression line in the log graph more clearly matches the spread of the data points. We have solved the issue where the bottom third of the line had no points clustered around it. This was achieved by transforming the dependent variable with the logarithm function. The transformed dependent variable (log of crime rate per capita) has an improved linear relationship with the median value of owner-occupied homes than the untransformed variable."
      ]
    },
    {
      "cell_type": "markdown",
      "metadata": {
        "id": "tU__tbXb8abf",
        "colab_type": "text"
      },
      "source": [
        "### Fitting a Simple Linear Regression Model Using the statsmodels formula API\n"
      ]
    },
    {
      "cell_type": "markdown",
      "metadata": {
        "id": "ex__elBt8g52",
        "colab_type": "text"
      },
      "source": [
        "#### Statsmodel formula\n",
        "The statsmodels formula API enables the data scientist to suye the formula language to define regression models that can be found in statistics literature and many dedicated statistical packages.\n"
      ]
    },
    {
      "cell_type": "markdown",
      "metadata": {
        "id": "OXojoHaf9U1R",
        "colab_type": "text"
      },
      "source": [
        "##### Fitting a Simple Linear Regression Model Using the statsmodels formula API"
      ]
    },
    {
      "cell_type": "code",
      "metadata": {
        "id": "Wxz6yemY9Slz",
        "colab_type": "code",
        "colab": {}
      },
      "source": [
        "linearModel = smf.ols(formula = 'crimeRatePerCapita ~ medianValue_Ks',\n",
        "                      data = train_data,)"
      ],
      "execution_count": 32,
      "outputs": []
    },
    {
      "cell_type": "markdown",
      "metadata": {
        "id": "Mcm6vqmy-XAs",
        "colab_type": "text"
      },
      "source": [
        "We call the ols function of the statsmodels API and set its formula argument by defining a **patsy** string, that uses the tilde (~) symbol to relate the dependent variable to the independent variables.\n",
        "Tell the function where to find the variables named, in the string, by assigning the data argument of the ols function to the DataFrame that contains your variables (train_data)"
      ]
    },
    {
      "cell_type": "code",
      "metadata": {
        "id": "AE3RymQk-3jC",
        "colab_type": "code",
        "colab": {}
      },
      "source": [
        "linearModelResult = linearModel.fit()"
      ],
      "execution_count": 33,
      "outputs": []
    },
    {
      "cell_type": "code",
      "metadata": {
        "id": "1BJn1DWc-825",
        "colab_type": "code",
        "colab": {
          "base_uri": "https://localhost:8080/",
          "height": 0
        },
        "outputId": "056848bc-2901-4bb6-c8b1-d3733f626d0d"
      },
      "source": [
        "linearModelResult.summary()"
      ],
      "execution_count": 34,
      "outputs": [
        {
          "output_type": "execute_result",
          "data": {
            "text/html": [
              "<table class=\"simpletable\">\n",
              "<caption>OLS Regression Results</caption>\n",
              "<tr>\n",
              "  <th>Dep. Variable:</th>    <td>crimeRatePerCapita</td> <th>  R-squared:         </th> <td>   0.144</td>\n",
              "</tr>\n",
              "<tr>\n",
              "  <th>Model:</th>                    <td>OLS</td>        <th>  Adj. R-squared:    </th> <td>   0.141</td>\n",
              "</tr>\n",
              "<tr>\n",
              "  <th>Method:</th>              <td>Least Squares</td>   <th>  F-statistic:       </th> <td>   59.02</td>\n",
              "</tr>\n",
              "<tr>\n",
              "  <th>Date:</th>              <td>Fri, 10 Jul 2020</td>  <th>  Prob (F-statistic):</th> <td>1.56e-13</td>\n",
              "</tr>\n",
              "<tr>\n",
              "  <th>Time:</th>                  <td>17:58:18</td>      <th>  Log-Likelihood:    </th> <td> -1217.4</td>\n",
              "</tr>\n",
              "<tr>\n",
              "  <th>No. Observations:</th>       <td>   354</td>       <th>  AIC:               </th> <td>   2439.</td>\n",
              "</tr>\n",
              "<tr>\n",
              "  <th>Df Residuals:</th>           <td>   352</td>       <th>  BIC:               </th> <td>   2447.</td>\n",
              "</tr>\n",
              "<tr>\n",
              "  <th>Df Model:</th>               <td>     1</td>       <th>                     </th>     <td> </td>   \n",
              "</tr>\n",
              "<tr>\n",
              "  <th>Covariance Type:</th>       <td>nonrobust</td>     <th>                     </th>     <td> </td>   \n",
              "</tr>\n",
              "</table>\n",
              "<table class=\"simpletable\">\n",
              "<tr>\n",
              "         <td></td>           <th>coef</th>     <th>std err</th>      <th>t</th>      <th>P>|t|</th>  <th>[0.025</th>    <th>0.975]</th>  \n",
              "</tr>\n",
              "<tr>\n",
              "  <th>Intercept</th>      <td>   11.2094</td> <td>    1.079</td> <td>   10.386</td> <td> 0.000</td> <td>    9.087</td> <td>   13.332</td>\n",
              "</tr>\n",
              "<tr>\n",
              "  <th>medianValue_Ks</th> <td>   -0.3502</td> <td>    0.046</td> <td>   -7.683</td> <td> 0.000</td> <td>   -0.440</td> <td>   -0.261</td>\n",
              "</tr>\n",
              "</table>\n",
              "<table class=\"simpletable\">\n",
              "<tr>\n",
              "  <th>Omnibus:</th>       <td>447.354</td> <th>  Durbin-Watson:     </th> <td>   1.928</td> \n",
              "</tr>\n",
              "<tr>\n",
              "  <th>Prob(Omnibus):</th> <td> 0.000</td>  <th>  Jarque-Bera (JB):  </th> <td>39791.431</td>\n",
              "</tr>\n",
              "<tr>\n",
              "  <th>Skew:</th>          <td> 5.897</td>  <th>  Prob(JB):          </th> <td>    0.00</td> \n",
              "</tr>\n",
              "<tr>\n",
              "  <th>Kurtosis:</th>      <td>53.583</td>  <th>  Cond. No.          </th> <td>    63.7</td> \n",
              "</tr>\n",
              "</table><br/><br/>Warnings:<br/>[1] Standard Errors assume that the covariance matrix of the errors is correctly specified."
            ],
            "text/plain": [
              "<class 'statsmodels.iolib.summary.Summary'>\n",
              "\"\"\"\n",
              "                            OLS Regression Results                            \n",
              "==============================================================================\n",
              "Dep. Variable:     crimeRatePerCapita   R-squared:                       0.144\n",
              "Model:                            OLS   Adj. R-squared:                  0.141\n",
              "Method:                 Least Squares   F-statistic:                     59.02\n",
              "Date:                Fri, 10 Jul 2020   Prob (F-statistic):           1.56e-13\n",
              "Time:                        17:58:18   Log-Likelihood:                -1217.4\n",
              "No. Observations:                 354   AIC:                             2439.\n",
              "Df Residuals:                     352   BIC:                             2447.\n",
              "Df Model:                           1                                         \n",
              "Covariance Type:            nonrobust                                         \n",
              "==================================================================================\n",
              "                     coef    std err          t      P>|t|      [0.025      0.975]\n",
              "----------------------------------------------------------------------------------\n",
              "Intercept         11.2094      1.079     10.386      0.000       9.087      13.332\n",
              "medianValue_Ks    -0.3502      0.046     -7.683      0.000      -0.440      -0.261\n",
              "==============================================================================\n",
              "Omnibus:                      447.354   Durbin-Watson:                   1.928\n",
              "Prob(Omnibus):                  0.000   Jarque-Bera (JB):            39791.431\n",
              "Skew:                           5.897   Prob(JB):                         0.00\n",
              "Kurtosis:                      53.583   Cond. No.                         63.7\n",
              "==============================================================================\n",
              "\n",
              "Warnings:\n",
              "[1] Standard Errors assume that the covariance matrix of the errors is correctly specified.\n",
              "\"\"\""
            ]
          },
          "metadata": {
            "tags": []
          },
          "execution_count": 34
        }
      ]
    },
    {
      "cell_type": "markdown",
      "metadata": {
        "id": "mYC69cGw_fzX",
        "colab_type": "text"
      },
      "source": [
        "#### Analyzing the Model Summary"
      ]
    },
    {
      "cell_type": "markdown",
      "metadata": {
        "id": "wFrB91NSBPg_",
        "colab_type": "text"
      },
      "source": [
        "The **.fit** method provides many functions to explore its output. These include the conf_int(), pvalues, tvalues and summary() parameters.\n",
        "\n",
        "In the top-left corner of Section 1, we find the dependent variable in the model (**Dep. Variable**) printed and **crimeRatePerCapita**.\n",
        "A statistic named R-squared with a value of 0.144 for our model our **14.4%**. R-squared its a statistic that provides a measure of how much of the variability in the dependent variable, **crimeRatePerCapita** , our model is able to explain.It can be interpreted as a measure of how well our models fits the dataset.\n",
        "\n",
        "The **intercept** variable, is a column that reports the model coefficients (**coef**).  The intercept and the coefficient of the independent variable are printed under the column labeled **coef**. The intercept has a value of 11.2094 with the coefficient of the independent variable having a value of negative **0.3502**.\n",
        "\n",
        "If we choose to denote the dependent variable in our model (crimeRatePerCapita) as y and the independent variable (the median value of owner-occupied homes) as x, we have all the ingredients to write out the equation that defines our model.\n",
        "\n",
        "Thus, y ≈ 11.2094 - 0.3502 x, is the equation for our model"
      ]
    },
    {
      "cell_type": "markdown",
      "metadata": {
        "id": "96tZZgwaD_dM",
        "colab_type": "text"
      },
      "source": [
        "#### The Model Formula Language\n",
        "\n",
        "Statsmodels implements the R-style formula languague by using the **Patsy** library internally to convert formulas and data to the matrices.\n",
        "\n",
        "The figure bellow summarizes the operatores used to construct the Patsy Formula.\n",
        "\n",
        "\n",
        "\n",
        "![texto alternativo](https://s3.amazonaws.com/thinkific/file_uploads/59347/images/464/3a0/b9e/B15019_02_16.png)\n"
      ]
    },
    {
      "cell_type": "markdown",
      "metadata": {
        "id": "kben3ZKHFvN2",
        "colab_type": "text"
      },
      "source": [
        "#### Fitting a Log-Linear Model Using the Statsmodels formula API"
      ]
    },
    {
      "cell_type": "code",
      "metadata": {
        "id": "1qu7TFq5GM8U",
        "colab_type": "code",
        "colab": {
          "base_uri": "https://localhost:8080/",
          "height": 227
        },
        "outputId": "58d01ad6-0baa-495b-880f-14b805277845"
      },
      "source": [
        "df.head()"
      ],
      "execution_count": 35,
      "outputs": [
        {
          "output_type": "execute_result",
          "data": {
            "text/html": [
              "<div>\n",
              "<style scoped>\n",
              "    .dataframe tbody tr th:only-of-type {\n",
              "        vertical-align: middle;\n",
              "    }\n",
              "\n",
              "    .dataframe tbody tr th {\n",
              "        vertical-align: top;\n",
              "    }\n",
              "\n",
              "    .dataframe thead th {\n",
              "        text-align: right;\n",
              "    }\n",
              "</style>\n",
              "<table border=\"1\" class=\"dataframe\">\n",
              "  <thead>\n",
              "    <tr style=\"text-align: right;\">\n",
              "      <th></th>\n",
              "      <th>crimeRatePerCapita</th>\n",
              "      <th>landOver25K_sqft</th>\n",
              "      <th>non-retailLandProptn</th>\n",
              "      <th>riverDummy</th>\n",
              "      <th>nitrixOxide_pp10m</th>\n",
              "      <th>AvgNo.RoomsPerDwelling</th>\n",
              "      <th>ProptnOwnerOccupied</th>\n",
              "      <th>weightedDist</th>\n",
              "      <th>radialHighwaysAccess</th>\n",
              "      <th>propTaxRate_per10K</th>\n",
              "      <th>pupilTeacherRatio</th>\n",
              "      <th>pctLowerStatus</th>\n",
              "      <th>medianValue_Ks</th>\n",
              "    </tr>\n",
              "  </thead>\n",
              "  <tbody>\n",
              "    <tr>\n",
              "      <th>0</th>\n",
              "      <td>0.00632</td>\n",
              "      <td>18.0</td>\n",
              "      <td>2.31</td>\n",
              "      <td>0</td>\n",
              "      <td>0.538</td>\n",
              "      <td>6.575</td>\n",
              "      <td>65.2</td>\n",
              "      <td>4.0900</td>\n",
              "      <td>1</td>\n",
              "      <td>296</td>\n",
              "      <td>15.3</td>\n",
              "      <td>4.98</td>\n",
              "      <td>24.0</td>\n",
              "    </tr>\n",
              "    <tr>\n",
              "      <th>1</th>\n",
              "      <td>0.02731</td>\n",
              "      <td>0.0</td>\n",
              "      <td>7.07</td>\n",
              "      <td>0</td>\n",
              "      <td>0.469</td>\n",
              "      <td>6.421</td>\n",
              "      <td>78.9</td>\n",
              "      <td>4.9671</td>\n",
              "      <td>2</td>\n",
              "      <td>242</td>\n",
              "      <td>17.8</td>\n",
              "      <td>9.14</td>\n",
              "      <td>21.6</td>\n",
              "    </tr>\n",
              "    <tr>\n",
              "      <th>2</th>\n",
              "      <td>0.02729</td>\n",
              "      <td>0.0</td>\n",
              "      <td>7.07</td>\n",
              "      <td>0</td>\n",
              "      <td>0.469</td>\n",
              "      <td>7.185</td>\n",
              "      <td>61.1</td>\n",
              "      <td>4.9671</td>\n",
              "      <td>2</td>\n",
              "      <td>242</td>\n",
              "      <td>17.8</td>\n",
              "      <td>4.03</td>\n",
              "      <td>34.7</td>\n",
              "    </tr>\n",
              "    <tr>\n",
              "      <th>3</th>\n",
              "      <td>0.03237</td>\n",
              "      <td>0.0</td>\n",
              "      <td>2.18</td>\n",
              "      <td>0</td>\n",
              "      <td>0.458</td>\n",
              "      <td>6.998</td>\n",
              "      <td>45.8</td>\n",
              "      <td>6.0622</td>\n",
              "      <td>3</td>\n",
              "      <td>222</td>\n",
              "      <td>18.7</td>\n",
              "      <td>2.94</td>\n",
              "      <td>33.4</td>\n",
              "    </tr>\n",
              "    <tr>\n",
              "      <th>4</th>\n",
              "      <td>0.06905</td>\n",
              "      <td>0.0</td>\n",
              "      <td>2.18</td>\n",
              "      <td>0</td>\n",
              "      <td>0.458</td>\n",
              "      <td>7.147</td>\n",
              "      <td>54.2</td>\n",
              "      <td>6.0622</td>\n",
              "      <td>3</td>\n",
              "      <td>222</td>\n",
              "      <td>18.7</td>\n",
              "      <td>5.33</td>\n",
              "      <td>36.2</td>\n",
              "    </tr>\n",
              "  </tbody>\n",
              "</table>\n",
              "</div>"
            ],
            "text/plain": [
              "   crimeRatePerCapita  landOver25K_sqft  ...  pctLowerStatus  medianValue_Ks\n",
              "0             0.00632              18.0  ...            4.98            24.0\n",
              "1             0.02731               0.0  ...            9.14            21.6\n",
              "2             0.02729               0.0  ...            4.03            34.7\n",
              "3             0.03237               0.0  ...            2.94            33.4\n",
              "4             0.06905               0.0  ...            5.33            36.2\n",
              "\n",
              "[5 rows x 13 columns]"
            ]
          },
          "metadata": {
            "tags": []
          },
          "execution_count": 35
        }
      ]
    },
    {
      "cell_type": "code",
      "metadata": {
        "id": "5HZ12nhQF4sA",
        "colab_type": "code",
        "colab": {
          "base_uri": "https://localhost:8080/",
          "height": 382
        },
        "outputId": "7cac85e6-d3b1-4992-9623-82149f8cf9ed"
      },
      "source": [
        "linearModel = smf.ols(formula = 'np.log(crimeRatePerCapita) ~ medianValue_Ks',\n",
        "                      data = train_data)\n",
        "linearModelResult = linearModel.fit()\n",
        "linearModelResult.summary()"
      ],
      "execution_count": 36,
      "outputs": [
        {
          "output_type": "execute_result",
          "data": {
            "text/html": [
              "<table class=\"simpletable\">\n",
              "<caption>OLS Regression Results</caption>\n",
              "<tr>\n",
              "  <th>Dep. Variable:</th>    <td>np.log(crimeRatePerCapita)</td> <th>  R-squared:         </th> <td>   0.238</td>\n",
              "</tr>\n",
              "<tr>\n",
              "  <th>Model:</th>                        <td>OLS</td>            <th>  Adj. R-squared:    </th> <td>   0.236</td>\n",
              "</tr>\n",
              "<tr>\n",
              "  <th>Method:</th>                  <td>Least Squares</td>       <th>  F-statistic:       </th> <td>   109.9</td>\n",
              "</tr>\n",
              "<tr>\n",
              "  <th>Date:</th>                  <td>Fri, 10 Jul 2020</td>      <th>  Prob (F-statistic):</th> <td>1.48e-22</td>\n",
              "</tr>\n",
              "<tr>\n",
              "  <th>Time:</th>                      <td>17:58:18</td>          <th>  Log-Likelihood:    </th> <td> -727.67</td>\n",
              "</tr>\n",
              "<tr>\n",
              "  <th>No. Observations:</th>           <td>   354</td>           <th>  AIC:               </th> <td>   1459.</td>\n",
              "</tr>\n",
              "<tr>\n",
              "  <th>Df Residuals:</th>               <td>   352</td>           <th>  BIC:               </th> <td>   1467.</td>\n",
              "</tr>\n",
              "<tr>\n",
              "  <th>Df Model:</th>                   <td>     1</td>           <th>                     </th>     <td> </td>   \n",
              "</tr>\n",
              "<tr>\n",
              "  <th>Covariance Type:</th>           <td>nonrobust</td>         <th>                     </th>     <td> </td>   \n",
              "</tr>\n",
              "</table>\n",
              "<table class=\"simpletable\">\n",
              "<tr>\n",
              "         <td></td>           <th>coef</th>     <th>std err</th>      <th>t</th>      <th>P>|t|</th>  <th>[0.025</th>    <th>0.975]</th>  \n",
              "</tr>\n",
              "<tr>\n",
              "  <th>Intercept</th>      <td>    1.9107</td> <td>    0.271</td> <td>    7.062</td> <td> 0.000</td> <td>    1.379</td> <td>    2.443</td>\n",
              "</tr>\n",
              "<tr>\n",
              "  <th>medianValue_Ks</th> <td>   -0.1198</td> <td>    0.011</td> <td>  -10.482</td> <td> 0.000</td> <td>   -0.142</td> <td>   -0.097</td>\n",
              "</tr>\n",
              "</table>\n",
              "<table class=\"simpletable\">\n",
              "<tr>\n",
              "  <th>Omnibus:</th>       <td>11.420</td> <th>  Durbin-Watson:     </th> <td>   1.907</td>\n",
              "</tr>\n",
              "<tr>\n",
              "  <th>Prob(Omnibus):</th> <td> 0.003</td> <th>  Jarque-Bera (JB):  </th> <td>  10.764</td>\n",
              "</tr>\n",
              "<tr>\n",
              "  <th>Skew:</th>          <td> 0.376</td> <th>  Prob(JB):          </th> <td> 0.00460</td>\n",
              "</tr>\n",
              "<tr>\n",
              "  <th>Kurtosis:</th>      <td> 2.594</td> <th>  Cond. No.          </th> <td>    63.7</td>\n",
              "</tr>\n",
              "</table><br/><br/>Warnings:<br/>[1] Standard Errors assume that the covariance matrix of the errors is correctly specified."
            ],
            "text/plain": [
              "<class 'statsmodels.iolib.summary.Summary'>\n",
              "\"\"\"\n",
              "                                OLS Regression Results                                \n",
              "======================================================================================\n",
              "Dep. Variable:     np.log(crimeRatePerCapita)   R-squared:                       0.238\n",
              "Model:                                    OLS   Adj. R-squared:                  0.236\n",
              "Method:                         Least Squares   F-statistic:                     109.9\n",
              "Date:                        Fri, 10 Jul 2020   Prob (F-statistic):           1.48e-22\n",
              "Time:                                17:58:18   Log-Likelihood:                -727.67\n",
              "No. Observations:                         354   AIC:                             1459.\n",
              "Df Residuals:                             352   BIC:                             1467.\n",
              "Df Model:                                   1                                         \n",
              "Covariance Type:                    nonrobust                                         \n",
              "==================================================================================\n",
              "                     coef    std err          t      P>|t|      [0.025      0.975]\n",
              "----------------------------------------------------------------------------------\n",
              "Intercept          1.9107      0.271      7.062      0.000       1.379       2.443\n",
              "medianValue_Ks    -0.1198      0.011    -10.482      0.000      -0.142      -0.097\n",
              "==============================================================================\n",
              "Omnibus:                       11.420   Durbin-Watson:                   1.907\n",
              "Prob(Omnibus):                  0.003   Jarque-Bera (JB):               10.764\n",
              "Skew:                           0.376   Prob(JB):                      0.00460\n",
              "Kurtosis:                       2.594   Cond. No.                         63.7\n",
              "==============================================================================\n",
              "\n",
              "Warnings:\n",
              "[1] Standard Errors assume that the covariance matrix of the errors is correctly specified.\n",
              "\"\"\""
            ]
          },
          "metadata": {
            "tags": []
          },
          "execution_count": 36
        }
      ]
    },
    {
      "cell_type": "markdown",
      "metadata": {
        "id": "5T0ohwNtHFl6",
        "colab_type": "text"
      },
      "source": [
        "### Multiple Regression Analysis\n",
        "\n"
      ]
    },
    {
      "cell_type": "markdown",
      "metadata": {
        "id": "eFu4A_NKHI2Q",
        "colab_type": "text"
      },
      "source": [
        "#### Fitting a Multiple Linear Regression Model Using the Statsmodels formula API"
      ]
    },
    {
      "cell_type": "code",
      "metadata": {
        "id": "jvAOYeuoHaQX",
        "colab_type": "code",
        "colab": {}
      },
      "source": [
        "multiLinearModel  = smf.ols(formula = 'crimeRatePerCapita ~ pctLowerStatus + radialHighwaysAccess + medianValue_Ks + nitrixOxide_pp10m',\n",
        "                            data = train_data)"
      ],
      "execution_count": 37,
      "outputs": []
    },
    {
      "cell_type": "code",
      "metadata": {
        "id": "fIXTSXRrHu9h",
        "colab_type": "code",
        "colab": {
          "base_uri": "https://localhost:8080/",
          "height": 472
        },
        "outputId": "e255dbca-a734-4f1c-cb54-630cf8f44fc4"
      },
      "source": [
        "multiLinearModelResult = multiLinearModel.fit()\n",
        "\n",
        "print(multiLinearModelResult.summary())"
      ],
      "execution_count": 38,
      "outputs": [
        {
          "output_type": "stream",
          "text": [
            "                            OLS Regression Results                            \n",
            "==============================================================================\n",
            "Dep. Variable:     crimeRatePerCapita   R-squared:                       0.398\n",
            "Model:                            OLS   Adj. R-squared:                  0.391\n",
            "Method:                 Least Squares   F-statistic:                     57.77\n",
            "Date:                Fri, 10 Jul 2020   Prob (F-statistic):           2.19e-37\n",
            "Time:                        17:58:18   Log-Likelihood:                -1154.9\n",
            "No. Observations:                 354   AIC:                             2320.\n",
            "Df Residuals:                     349   BIC:                             2339.\n",
            "Df Model:                           4                                         \n",
            "Covariance Type:            nonrobust                                         \n",
            "========================================================================================\n",
            "                           coef    std err          t      P>|t|      [0.025      0.975]\n",
            "----------------------------------------------------------------------------------------\n",
            "Intercept                0.8912      2.670      0.334      0.739      -4.360       6.142\n",
            "pctLowerStatus           0.1028      0.080      1.277      0.202      -0.055       0.261\n",
            "radialHighwaysAccess     0.4948      0.048     10.216      0.000       0.400       0.590\n",
            "medianValue_Ks          -0.1103      0.058     -1.916      0.056      -0.224       0.003\n",
            "nitrixOxide_pp10m       -2.1039      4.131     -0.509      0.611     -10.229       6.021\n",
            "==============================================================================\n",
            "Omnibus:                      534.476   Durbin-Watson:                   1.999\n",
            "Prob(Omnibus):                  0.000   Jarque-Bera (JB):           100129.789\n",
            "Skew:                           7.866   Prob(JB):                         0.00\n",
            "Kurtosis:                      83.876   Cond. No.                         374.\n",
            "==============================================================================\n",
            "\n",
            "Warnings:\n",
            "[1] Standard Errors assume that the covariance matrix of the errors is correctly specified.\n"
          ],
          "name": "stdout"
        }
      ]
    },
    {
      "cell_type": "markdown",
      "metadata": {
        "id": "TcXDmtYLH9dZ",
        "colab_type": "text"
      },
      "source": [
        "R-squared statistic was used to assess the model for goodness of fit.\n",
        "When multiple independent variables are involve, the goodness of fit of the model created is assessed using the adjusted R-squared statistic.\n",
        "\n",
        "The adjustes R-squared statitic considers the present of extra independent variables in the model and corrects for inflation of the goodness of fit measure of the model, just caused because we used more variables into our model.\n",
        "\n",
        "We learn that presence of indepedent variables that aer  correlated to a dependent variable can help explain the variable in the depdent variable in a model. But it is clear that a considerable amount of variability, about 60.9 percent, in the dependent variable is still not explained by our model.\n",
        "\n",
        "There is still room for improvement if we want a model that does a good job of explaining the variability we see in crimeRatePerCapita. In Section 2 of Figure 2.18, the intercept and all the independent variables in our model are listed together with their coefficients. If we denote pctLowerStatus by x1, radialHighwaysAccess by x2, medianValue_Ks by x3 , and nitrixOxide_pp10m by x4, a mathematical expression for the model created can be written as \n",
        "**y ≈ 0.8912.1028x1+0.4948x2-0.1103x3-2.1039x4**."
      ]
    },
    {
      "cell_type": "markdown",
      "metadata": {
        "id": "yb8Q97t_Ke9m",
        "colab_type": "text"
      },
      "source": [
        "### Assumptions of Regression\n",
        "\n",
        "Let's review the main assumptions of linear regression analysis that we must ensure are met in order to develop a good model:\n",
        "\n",
        "1. The relantionship between the dependent variable and independent variable must be linear and **additive**.\n",
        "This means that the relantionship must be of straight-line type, and if htere are many independent variables involved, thus multiple linear regression, the weighted sum of these indepednet variables involved must be able to explain the variability in the dependent variable.\n",
        "\n",
        "2. The residuals terms (ϵi) must be normally distributed. This is that the standard error of estimates is calculated correctly.\n",
        "This standard error of estimates statistic is used to calculate t-values, which, in turn, are used to make statistical significance decisions.\n",
        "So, if the standard error of estimate is wrong, the t-values will be wrong and so the statistical significance decision that follow on from the p-values. The t-values, that are calculated usign the standard error of estimate are also used to construct confidence intervals for the population regression parameters. If the standard error is wrong, then the confidence intervals will be wrong as well.\n",
        "\n",
        "3. The residual terms (ϵi) must have constant variance (homoskedasticity). When this is not the case, we have the heteroskedasticity problem. This point refers to the variance of the residual terms. It is assumed to be constant. We assume that each data point in our regression analysis contributes equal explanation to the variability we are seeking to model. If some data points contribute more explanation than other, our regression line will be pulled toward the points with more information. The data points will not be equally scattered around our regression line.\n",
        "\n",
        "4. The residual terms (ϵi) must not be correlated. When there is a correlation in the residual terms, we have the problem known as autocorrelations. Knowing one residual term, must not give us any information about what hte next residual term will be. Residual terms that are autocorrelated are unlikely to have a normal distribution.\n",
        "\n",
        "\n",
        "5. There must not be correlation among the indepedent variables. When the independent variables are correlated among themselves, we have a problem called multicollinearity. THis would lead to developing a model with coefficients that have values that depend on the presence of other variables independents.\n",
        "In other words, we will have a model that will change drastically should a particular indepedent variable be dropped from our model."
      ]
    },
    {
      "cell_type": "markdown",
      "metadata": {
        "id": "Sx8ERiJNOCRl",
        "colab_type": "text"
      },
      "source": [
        "#### Fitting a Multiple Log-linear Regression Model"
      ]
    },
    {
      "cell_type": "code",
      "metadata": {
        "id": "JoJKP--JOFK2",
        "colab_type": "code",
        "colab": {
          "base_uri": "https://localhost:8080/",
          "height": 472
        },
        "outputId": "7869258a-b1e7-4670-871c-bc3c25368ecf"
      },
      "source": [
        "logMultiLinearModel  = smf.ols(formula = 'np.log(crimeRatePerCapita) ~ pctLowerStatus + radialHighwaysAccess + medianValue_Ks + nitrixOxide_pp10m',\n",
        "                            data = train_data)\n",
        "logMultiLinearModelResult = logMultiLinearModel.fit()\n",
        "\n",
        "print(logMultiLinearModelResult.summary())"
      ],
      "execution_count": 39,
      "outputs": [
        {
          "output_type": "stream",
          "text": [
            "                                OLS Regression Results                                \n",
            "======================================================================================\n",
            "Dep. Variable:     np.log(crimeRatePerCapita)   R-squared:                       0.853\n",
            "Model:                                    OLS   Adj. R-squared:                  0.851\n",
            "Method:                         Least Squares   F-statistic:                     504.4\n",
            "Date:                        Fri, 10 Jul 2020   Prob (F-statistic):          1.29e-143\n",
            "Time:                                17:58:18   Log-Likelihood:                -436.94\n",
            "No. Observations:                         354   AIC:                             883.9\n",
            "Df Residuals:                             349   BIC:                             903.2\n",
            "Df Model:                                   4                                         \n",
            "Covariance Type:                    nonrobust                                         \n",
            "========================================================================================\n",
            "                           coef    std err          t      P>|t|      [0.025      0.975]\n",
            "----------------------------------------------------------------------------------------\n",
            "Intercept               -6.2406      0.351    -17.767      0.000      -6.931      -5.550\n",
            "pctLowerStatus           0.0421      0.011      3.978      0.000       0.021       0.063\n",
            "radialHighwaysAccess     0.1399      0.006     21.957      0.000       0.127       0.152\n",
            "medianValue_Ks          -0.0017      0.008     -0.227      0.821      -0.017       0.013\n",
            "nitrixOxide_pp10m        6.5128      0.544     11.983      0.000       5.444       7.582\n",
            "==============================================================================\n",
            "Omnibus:                       11.055   Durbin-Watson:                   1.989\n",
            "Prob(Omnibus):                  0.004   Jarque-Bera (JB):               11.265\n",
            "Skew:                           0.430   Prob(JB):                      0.00358\n",
            "Kurtosis:                       3.152   Cond. No.                         374.\n",
            "==============================================================================\n",
            "\n",
            "Warnings:\n",
            "[1] Standard Errors assume that the covariance matrix of the errors is correctly specified.\n"
          ],
          "name": "stdout"
        }
      ]
    },
    {
      "cell_type": "markdown",
      "metadata": {
        "id": "I7ZDw7stPInV",
        "colab_type": "text"
      },
      "source": [
        "### Explaning the Results of Regression Analysis"
      ]
    },
    {
      "cell_type": "markdown",
      "metadata": {
        "id": "e8BB7O7jPRfa",
        "colab_type": "text"
      },
      "source": [
        "A primary objective of regression analysis is to find a model that explains the variability observed in a dependent variable of interest. It is, therefore, very important to have a quantity that measures how well a regression model explains this variability. The statistic that does this is called **R-squared (R2)**. Sometimes, it is also called the coefficient of determination.\n",
        "\n",
        "The first of these is callaed the Total Sum of Squared, gives us a mesure of the total variance found in the dependent variable from is mean value.\n",
        "\n",
        "The next quantity is called the Regression sum of squares (RSS). This gives us a measure of the amount of variability in the dependent variable that our model explains. If you imagine us creating a perfect model with no errors in prediction, then TSS will be equal to RSS. Our hypothetically perfect model will provide an explanation for all the variability we see in the dependent variable with respect to the mean value. In practice, this rarely happens. Instead, we create models that are not perfect, so RSS is less than TSS. The missing amount by which RSS falls short of TSS is the amount of variability in the dependent variable that our regression model is not able to explain. That quantity is the Error Sum of Squares (ESS), which is essentially the sum of the residual terms of our model.\n",
        "\n",
        "R-squared is the ratio of RSS to TSS. This, therefore, gives us a percentage measure of how much variability our regression model is able to explain compared to the total variability in the dependent variable with respect to the mean. R2 will become smaller when RSS grows smaller and vice versa. In the case of simple linear regression where the independent variable is one, R2 is enough to decide the overall fit of the model to the data.\n",
        "\n",
        "There is a problem, however, when it comes to multiple linear regression. The R2 is known to be sensitive to the addition of extra independent variables to the model, even if the independent variable is only slight correlated to the depedent variable. Its addition will increave R2. Depeding on R2 alone to make decision between models defined for the same depedent variable will lead to chasing a complex model that has many indepedent variables in it, creating a overfitting.\n",
        "\n",
        "TO overcome this problem, the Adjusted R2, is used to select between models defined for the same depedent variable.\n",
        "Adjusted R2 will increase only when the addition of an idependet variable to the model contributes to explaning the variability in the dependent variable in a meaningful way."
      ]
    },
    {
      "cell_type": "markdown",
      "metadata": {
        "id": "HzQk13n9vcDU",
        "colab_type": "text"
      },
      "source": [
        "### Regression Analysis Checks and Balances"
      ]
    },
    {
      "cell_type": "markdown",
      "metadata": {
        "id": "XbfqCbF1xV-4",
        "colab_type": "text"
      },
      "source": [
        "We used R-Squared and Adjusted R-squared statistics to assess the goodness of fit of our models. While R-squared statistic provides an estimate of the strength of the relantionship between a model and the dependent variable(s), it does **not** provide a formal statistical hypotheses test for the relantionship.\n",
        "\n",
        "What do we mean by a formal statistic hypothesis test for a relantionship between dependent variable and some independent variables?\n",
        "\n",
        "We must recall that, to say an indepedent variable has a relantionship with a depedent variable in a model, the coefficient (β) of that independent variable in the regression with our model must **not** be zero (0).\n",
        "\n",
        "The question is will we (or someone else) find the median value of owner-occupied homes as having a nonzero coefficient (β), if we repeat this analysis using a different sample of Boston Housing dataset taken at different locations or times? Is the nonzero coefficient for the median value of owner-occupied homes, found in our analysis, specific to our sample dataset and zero for any other Boston Housing data sample that may be collected? Did we find the nonzero coefficient for the median value of owner-occupied homes by chance? These questions are what hypothesis tests seek to clarify. We cannot be a hundred percent sure that the nonzero coefficient (β) of an independent variable is by chance or not. But hypothesis testing gives a framework by which we can calculate the level of confidence where we can say that the nonzero coefficient (β) found in our analysis is not by chance. This is how it works.\n",
        "\n",
        "We first agree a level of risk (α-value or α-risk or Type I error) that may exist that the nonzero coefficient for beta, may have been found by a chance. The ideia is that we are happy to live with this level of risk of making the error or mistake of claiming that the **coefficient (β)** is nonzero when in fact it is zero.\n",
        "\n",
        "In most pratical analysis, the **α-value** is set at 0.05, which is 5 in percentage terms. When we subtract the a-risk from one (1-α) we have a measure of the level of confidence that we have that the nonzero **coefficient (β)** found in our analysis did not come about by chance. So, our confidence level is 95% at 5% α-value.\n",
        "\n",
        "We then go ahead to calculate a probability value (usually called the p-value), which gives us a measure of the **α** risk related to the **coefficient (β)** of our model. We compare the o-vale to our chosen  α-risk, and if the p-value is less than the agreed  α-risk, we rejact the ideia that the nonzero **coefficient (β)** was found by chance. THis is because the risk of making a mistake of claiming the **coefficient (β)** is within acceptable limit we set for ourselves earlier.\n",
        "\n",
        "Anothat way of stating that the nonzero **coefficient (β)**  was **NOT** found by a chance is to say the **coefficient (β)**  is statistically significant or that we reject the null hypothesis, the null hypothesis being that there is no relationship between the variables being studied. We apply these ideas of statistical significante to our model in two stages:\n",
        "1. We validate the model as a whole statiscally.\n",
        "2. We valdiate the independent variables in our model individually for statistical significance.\n"
      ]
    },
    {
      "cell_type": "markdown",
      "metadata": {
        "id": "4WMG4YAJ2K2Y",
        "colab_type": "text"
      },
      "source": [
        "### The F-Test"
      ]
    },
    {
      "cell_type": "markdown",
      "metadata": {
        "id": "Ewaj4naa2Wz4",
        "colab_type": "text"
      },
      "source": [
        "The **F-test** is what validates the overall statistical significance of the strength of the relantionship between a model and its depedent variables.\n",
        "\n",
        "If p-value for the F-test is less than the chosen α-level, 0.05, we reject the null hypothesis and conclude that the model is statistically significant.\n",
        "\n",
        "A good F-value is expected to be larger than **one**.  has an F-statistic value of 261.5, which is larger than one, and a p-value (Prob (F-statistic)) of approximately zero. The risk of making a mistake and rejecting the null hypothesis when we should not (known as a Type I error in hypothesis testing), is less than the 5% limit we chose to live with at the beginning of the hypothesis test. Because the p-value is less than 0.05, we reject the null hypothesis about our model in Figure 2.19. Therefore, we state that the model is statistically significant at the chosen 95% confidence level."
      ]
    },
    {
      "cell_type": "markdown",
      "metadata": {
        "id": "SX3ioVsq3gEI",
        "colab_type": "text"
      },
      "source": [
        "### The T-test\n",
        "\n",
        "Once a model has been determined to be statistically significant globally, we can proceed to examine the significance of individual independent variables in the model.\n",
        "For our latest figure, multi linear model using log, the p_values( denotated p >  **p>|t|**) for the independent variables are provided. The p-value were calculated using the t-values also given on the summary results. \n",
        "\n",
        "We  compare the p-values to the 0.05 α-level. If an indepdent variable has a p-value of less then 0.05, the independent variable is statistically significant in our model.\n",
        "If the p-value is 0.05 or higher, the particular indepednt variable (or term) in our model is not statiscally significant.\n",
        "\n",
        "A closer look to our model, these terms dont contribute in a statiscally significant way of explaining the variability in our transformed dependent variable. To improve this model, those terms will have to be dropped and a new model tried.\n"
      ]
    }
  ]
}